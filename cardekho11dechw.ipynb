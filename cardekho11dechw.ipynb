{
 "cells": [
  {
   "cell_type": "markdown",
   "metadata": {},
   "source": [
    "# Car Dekho Regression\n",
    "<font color='blue'> second hand Car Price Prediction"
   ]
  },
  {
   "cell_type": "markdown",
   "metadata": {},
   "source": [
    "### Importing libraries"
   ]
  },
  {
   "cell_type": "code",
   "execution_count": 97,
   "metadata": {},
   "outputs": [],
   "source": [
    "import pandas as pd\n",
    "import matplotlib.pyplot as plt\n",
    "import numpy as np"
   ]
  },
  {
   "cell_type": "markdown",
   "metadata": {},
   "source": [
    "### Reading dataset"
   ]
  },
  {
   "cell_type": "code",
   "execution_count": 98,
   "metadata": {},
   "outputs": [
    {
     "data": {
      "text/html": [
       "<div>\n",
       "<style scoped>\n",
       "    .dataframe tbody tr th:only-of-type {\n",
       "        vertical-align: middle;\n",
       "    }\n",
       "\n",
       "    .dataframe tbody tr th {\n",
       "        vertical-align: top;\n",
       "    }\n",
       "\n",
       "    .dataframe thead th {\n",
       "        text-align: right;\n",
       "    }\n",
       "</style>\n",
       "<table border=\"1\" class=\"dataframe\">\n",
       "  <thead>\n",
       "    <tr style=\"text-align: right;\">\n",
       "      <th></th>\n",
       "      <th>name</th>\n",
       "      <th>year</th>\n",
       "      <th>selling_price</th>\n",
       "      <th>km_driven</th>\n",
       "      <th>fuel</th>\n",
       "      <th>seller_type</th>\n",
       "      <th>transmission</th>\n",
       "      <th>owner</th>\n",
       "    </tr>\n",
       "  </thead>\n",
       "  <tbody>\n",
       "    <tr>\n",
       "      <th>0</th>\n",
       "      <td>Maruti 800 AC</td>\n",
       "      <td>2007</td>\n",
       "      <td>60000</td>\n",
       "      <td>70000</td>\n",
       "      <td>Petrol</td>\n",
       "      <td>Individual</td>\n",
       "      <td>Manual</td>\n",
       "      <td>First Owner</td>\n",
       "    </tr>\n",
       "    <tr>\n",
       "      <th>1</th>\n",
       "      <td>Maruti Wagon R LXI Minor</td>\n",
       "      <td>2007</td>\n",
       "      <td>135000</td>\n",
       "      <td>50000</td>\n",
       "      <td>Petrol</td>\n",
       "      <td>Individual</td>\n",
       "      <td>Manual</td>\n",
       "      <td>First Owner</td>\n",
       "    </tr>\n",
       "  </tbody>\n",
       "</table>\n",
       "</div>"
      ],
      "text/plain": [
       "                       name  year  selling_price  km_driven    fuel  \\\n",
       "0             Maruti 800 AC  2007          60000      70000  Petrol   \n",
       "1  Maruti Wagon R LXI Minor  2007         135000      50000  Petrol   \n",
       "\n",
       "  seller_type transmission        owner  \n",
       "0  Individual       Manual  First Owner  \n",
       "1  Individual       Manual  First Owner  "
      ]
     },
     "execution_count": 98,
     "metadata": {},
     "output_type": "execute_result"
    }
   ],
   "source": [
    "df1=pd.read_csv('CAR DETAILS FROM CAR DEKHO.csv')\n",
    "df1.head(2)"
   ]
  },
  {
   "cell_type": "code",
   "execution_count": 99,
   "metadata": {},
   "outputs": [
    {
     "data": {
      "text/html": [
       "<div>\n",
       "<style scoped>\n",
       "    .dataframe tbody tr th:only-of-type {\n",
       "        vertical-align: middle;\n",
       "    }\n",
       "\n",
       "    .dataframe tbody tr th {\n",
       "        vertical-align: top;\n",
       "    }\n",
       "\n",
       "    .dataframe thead th {\n",
       "        text-align: right;\n",
       "    }\n",
       "</style>\n",
       "<table border=\"1\" class=\"dataframe\">\n",
       "  <thead>\n",
       "    <tr style=\"text-align: right;\">\n",
       "      <th></th>\n",
       "      <th>name</th>\n",
       "      <th>year</th>\n",
       "      <th>selling_price</th>\n",
       "      <th>km_driven</th>\n",
       "      <th>fuel</th>\n",
       "      <th>seller_type</th>\n",
       "      <th>transmission</th>\n",
       "      <th>owner</th>\n",
       "      <th>mileage</th>\n",
       "      <th>engine</th>\n",
       "      <th>max_power</th>\n",
       "      <th>torque</th>\n",
       "      <th>seats</th>\n",
       "    </tr>\n",
       "  </thead>\n",
       "  <tbody>\n",
       "    <tr>\n",
       "      <th>0</th>\n",
       "      <td>Maruti Swift Dzire VDI</td>\n",
       "      <td>2014</td>\n",
       "      <td>450000</td>\n",
       "      <td>145500</td>\n",
       "      <td>Diesel</td>\n",
       "      <td>Individual</td>\n",
       "      <td>Manual</td>\n",
       "      <td>First Owner</td>\n",
       "      <td>23.4 kmpl</td>\n",
       "      <td>1248 CC</td>\n",
       "      <td>74 bhp</td>\n",
       "      <td>190Nm@ 2000rpm</td>\n",
       "      <td>5.0</td>\n",
       "    </tr>\n",
       "  </tbody>\n",
       "</table>\n",
       "</div>"
      ],
      "text/plain": [
       "                     name  year  selling_price  km_driven    fuel seller_type  \\\n",
       "0  Maruti Swift Dzire VDI  2014         450000     145500  Diesel  Individual   \n",
       "\n",
       "  transmission        owner    mileage   engine max_power          torque  \\\n",
       "0       Manual  First Owner  23.4 kmpl  1248 CC    74 bhp  190Nm@ 2000rpm   \n",
       "\n",
       "   seats  \n",
       "0    5.0  "
      ]
     },
     "execution_count": 99,
     "metadata": {},
     "output_type": "execute_result"
    }
   ],
   "source": [
    "df2=pd.read_csv('Car details v3.csv')\n",
    "df2.head(1)"
   ]
  },
  {
   "cell_type": "code",
   "execution_count": 100,
   "metadata": {},
   "outputs": [
    {
     "data": {
      "text/plain": [
       "array(['First Owner', 'Second Owner', 'Fourth & Above Owner',\n",
       "       'Third Owner', 'Test Drive Car'], dtype=object)"
      ]
     },
     "execution_count": 100,
     "metadata": {},
     "output_type": "execute_result"
    }
   ],
   "source": [
    "df1['owner'].unique()"
   ]
  },
  {
   "cell_type": "code",
   "execution_count": 101,
   "metadata": {},
   "outputs": [
    {
     "data": {
      "text/plain": [
       "array(['Manual', 'Automatic'], dtype=object)"
      ]
     },
     "execution_count": 101,
     "metadata": {},
     "output_type": "execute_result"
    }
   ],
   "source": [
    "df2['transmission'].unique()"
   ]
  },
  {
   "cell_type": "code",
   "execution_count": 102,
   "metadata": {},
   "outputs": [
    {
     "data": {
      "text/html": [
       "<div>\n",
       "<style scoped>\n",
       "    .dataframe tbody tr th:only-of-type {\n",
       "        vertical-align: middle;\n",
       "    }\n",
       "\n",
       "    .dataframe tbody tr th {\n",
       "        vertical-align: top;\n",
       "    }\n",
       "\n",
       "    .dataframe thead th {\n",
       "        text-align: right;\n",
       "    }\n",
       "</style>\n",
       "<table border=\"1\" class=\"dataframe\">\n",
       "  <thead>\n",
       "    <tr style=\"text-align: right;\">\n",
       "      <th></th>\n",
       "      <th>name</th>\n",
       "      <th>year</th>\n",
       "      <th>selling_price</th>\n",
       "      <th>km_driven</th>\n",
       "      <th>fuel</th>\n",
       "      <th>seller_type</th>\n",
       "      <th>transmission</th>\n",
       "      <th>owner</th>\n",
       "      <th>mileage</th>\n",
       "      <th>engine</th>\n",
       "      <th>max_power</th>\n",
       "      <th>torque</th>\n",
       "      <th>seats</th>\n",
       "    </tr>\n",
       "  </thead>\n",
       "  <tbody>\n",
       "    <tr>\n",
       "      <th>0</th>\n",
       "      <td>Maruti Swift Dzire VDI</td>\n",
       "      <td>2014</td>\n",
       "      <td>450000</td>\n",
       "      <td>145500</td>\n",
       "      <td>Diesel</td>\n",
       "      <td>Individual</td>\n",
       "      <td>Manual</td>\n",
       "      <td>First Owner</td>\n",
       "      <td>23.4 kmpl</td>\n",
       "      <td>1248 CC</td>\n",
       "      <td>74 bhp</td>\n",
       "      <td>190Nm@ 2000rpm</td>\n",
       "      <td>5.0</td>\n",
       "    </tr>\n",
       "    <tr>\n",
       "      <th>1</th>\n",
       "      <td>Skoda Rapid 1.5 TDI Ambition</td>\n",
       "      <td>2014</td>\n",
       "      <td>370000</td>\n",
       "      <td>120000</td>\n",
       "      <td>Diesel</td>\n",
       "      <td>Individual</td>\n",
       "      <td>Manual</td>\n",
       "      <td>Second Owner</td>\n",
       "      <td>21.14 kmpl</td>\n",
       "      <td>1498 CC</td>\n",
       "      <td>103.52 bhp</td>\n",
       "      <td>250Nm@ 1500-2500rpm</td>\n",
       "      <td>5.0</td>\n",
       "    </tr>\n",
       "  </tbody>\n",
       "</table>\n",
       "</div>"
      ],
      "text/plain": [
       "                           name  year  selling_price  km_driven    fuel  \\\n",
       "0        Maruti Swift Dzire VDI  2014         450000     145500  Diesel   \n",
       "1  Skoda Rapid 1.5 TDI Ambition  2014         370000     120000  Diesel   \n",
       "\n",
       "  seller_type transmission         owner     mileage   engine   max_power  \\\n",
       "0  Individual       Manual   First Owner   23.4 kmpl  1248 CC      74 bhp   \n",
       "1  Individual       Manual  Second Owner  21.14 kmpl  1498 CC  103.52 bhp   \n",
       "\n",
       "                torque  seats  \n",
       "0       190Nm@ 2000rpm    5.0  \n",
       "1  250Nm@ 1500-2500rpm    5.0  "
      ]
     },
     "execution_count": 102,
     "metadata": {},
     "output_type": "execute_result"
    }
   ],
   "source": [
    "df2.head(2)"
   ]
  },
  {
   "cell_type": "code",
   "execution_count": 103,
   "metadata": {},
   "outputs": [
    {
     "data": {
      "text/html": [
       "<div>\n",
       "<style scoped>\n",
       "    .dataframe tbody tr th:only-of-type {\n",
       "        vertical-align: middle;\n",
       "    }\n",
       "\n",
       "    .dataframe tbody tr th {\n",
       "        vertical-align: top;\n",
       "    }\n",
       "\n",
       "    .dataframe thead th {\n",
       "        text-align: right;\n",
       "    }\n",
       "</style>\n",
       "<table border=\"1\" class=\"dataframe\">\n",
       "  <thead>\n",
       "    <tr style=\"text-align: right;\">\n",
       "      <th></th>\n",
       "      <th>name</th>\n",
       "      <th>year</th>\n",
       "      <th>selling_price</th>\n",
       "      <th>km_driven</th>\n",
       "      <th>fuel</th>\n",
       "      <th>seller_type</th>\n",
       "      <th>transmission</th>\n",
       "      <th>owner</th>\n",
       "    </tr>\n",
       "  </thead>\n",
       "  <tbody>\n",
       "    <tr>\n",
       "      <th>0</th>\n",
       "      <td>Maruti 800 AC</td>\n",
       "      <td>2007</td>\n",
       "      <td>60000</td>\n",
       "      <td>70000</td>\n",
       "      <td>Petrol</td>\n",
       "      <td>Individual</td>\n",
       "      <td>Manual</td>\n",
       "      <td>First Owner</td>\n",
       "    </tr>\n",
       "    <tr>\n",
       "      <th>1</th>\n",
       "      <td>Maruti Wagon R LXI Minor</td>\n",
       "      <td>2007</td>\n",
       "      <td>135000</td>\n",
       "      <td>50000</td>\n",
       "      <td>Petrol</td>\n",
       "      <td>Individual</td>\n",
       "      <td>Manual</td>\n",
       "      <td>First Owner</td>\n",
       "    </tr>\n",
       "  </tbody>\n",
       "</table>\n",
       "</div>"
      ],
      "text/plain": [
       "                       name  year  selling_price  km_driven    fuel  \\\n",
       "0             Maruti 800 AC  2007          60000      70000  Petrol   \n",
       "1  Maruti Wagon R LXI Minor  2007         135000      50000  Petrol   \n",
       "\n",
       "  seller_type transmission        owner  \n",
       "0  Individual       Manual  First Owner  \n",
       "1  Individual       Manual  First Owner  "
      ]
     },
     "execution_count": 103,
     "metadata": {},
     "output_type": "execute_result"
    }
   ],
   "source": [
    "df1.head(2)"
   ]
  },
  {
   "cell_type": "code",
   "execution_count": 104,
   "metadata": {},
   "outputs": [],
   "source": [
    "df1= df1.loc[:,['name','year','selling_price','km_driven','seller_type','fuel','transmission','owner']]\n",
    "df2= df2.loc[:,['name','year','selling_price','km_driven','seller_type','fuel','transmission','owner']]"
   ]
  },
  {
   "cell_type": "code",
   "execution_count": 105,
   "metadata": {},
   "outputs": [
    {
     "name": "stdout",
     "output_type": "stream",
     "text": [
      "<class 'pandas.core.frame.DataFrame'>\n",
      "Int64Index: 12468 entries, 0 to 8127\n",
      "Data columns (total 8 columns):\n",
      " #   Column         Non-Null Count  Dtype \n",
      "---  ------         --------------  ----- \n",
      " 0   name           12468 non-null  object\n",
      " 1   year           12468 non-null  int64 \n",
      " 2   selling_price  12468 non-null  int64 \n",
      " 3   km_driven      12468 non-null  int64 \n",
      " 4   seller_type    12468 non-null  object\n",
      " 5   fuel           12468 non-null  object\n",
      " 6   transmission   12468 non-null  object\n",
      " 7   owner          12468 non-null  object\n",
      "dtypes: int64(3), object(5)\n",
      "memory usage: 876.7+ KB\n"
     ]
    }
   ],
   "source": [
    "df=df1.append([df2])\n",
    "df.info()"
   ]
  },
  {
   "cell_type": "markdown",
   "metadata": {},
   "source": [
    "## Data Analysis"
   ]
  },
  {
   "cell_type": "markdown",
   "metadata": {},
   "source": [
    "### Checking for first 5 names of car in the data"
   ]
  },
  {
   "cell_type": "code",
   "execution_count": 106,
   "metadata": {},
   "outputs": [
    {
     "data": {
      "text/plain": [
       "0               Maruti 800 AC\n",
       "1    Maruti Wagon R LXI Minor\n",
       "2        Hyundai Verna 1.6 SX\n",
       "3      Datsun RediGO T Option\n",
       "4       Honda Amaze VX i-DTEC\n",
       "Name: name, dtype: object"
      ]
     },
     "execution_count": 106,
     "metadata": {},
     "output_type": "execute_result"
    }
   ],
   "source": [
    "df['name'].head(5)"
   ]
  },
  {
   "cell_type": "markdown",
   "metadata": {},
   "source": [
    "### Checking car which are selling the most"
   ]
  },
  {
   "cell_type": "code",
   "execution_count": 107,
   "metadata": {},
   "outputs": [
    {
     "data": {
      "text/plain": [
       "Maruti Swift Dzire VDI          198\n",
       "Maruti Alto 800 LXI             141\n",
       "Maruti Alto LXi                 118\n",
       "Maruti Swift VDI                 88\n",
       "Maruti Swift VDI BSIV            88\n",
       "                               ... \n",
       "Tata Indigo CS Emax CNG GLX       1\n",
       "Honda Civic 1.8 V MT Inspire      1\n",
       "Maruti Gypsy King Soft Top        1\n",
       "Maruti Wagon R VX                 1\n",
       "Honda Jazz Basic                  1\n",
       "Name: name, Length: 2511, dtype: int64"
      ]
     },
     "execution_count": 107,
     "metadata": {},
     "output_type": "execute_result"
    }
   ],
   "source": [
    "car_count=df['name'].value_counts().sort_values(ascending=False)\n",
    "car_count"
   ]
  },
  {
   "cell_type": "markdown",
   "metadata": {},
   "source": [
    "### Data visualization of the 5 cars selling the most"
   ]
  },
  {
   "cell_type": "code",
   "execution_count": 108,
   "metadata": {},
   "outputs": [
    {
     "data": {
      "image/png": "[encoded data removed]",
      "text/plain": [
       "<Figure size 432x288 with 1 Axes>"
      ]
     },
     "metadata": {
      "needs_background": "light"
     },
     "output_type": "display_data"
    }
   ],
   "source": [
    "a=car_count.head(5).plot(kind='bar')\n",
    "plt.title('Top 5 Cars Available for Sale',color='red')\n",
    "plt.xlabel('Name of Cars')\n",
    "plt.ylabel('Number of cars available')\n",
    "plt.show()"
   ]
  },
  {
   "cell_type": "markdown",
   "metadata": {},
   "source": [
    "#### Name and specifications of  the most expensive car available for sale"
   ]
  },
  {
   "cell_type": "code",
   "execution_count": 109,
   "metadata": {},
   "outputs": [
    {
     "data": {
      "text/html": [
       "<div>\n",
       "<style scoped>\n",
       "    .dataframe tbody tr th:only-of-type {\n",
       "        vertical-align: middle;\n",
       "    }\n",
       "\n",
       "    .dataframe tbody tr th {\n",
       "        vertical-align: top;\n",
       "    }\n",
       "\n",
       "    .dataframe thead th {\n",
       "        text-align: right;\n",
       "    }\n",
       "</style>\n",
       "<table border=\"1\" class=\"dataframe\">\n",
       "  <thead>\n",
       "    <tr style=\"text-align: right;\">\n",
       "      <th></th>\n",
       "      <th>name</th>\n",
       "      <th>year</th>\n",
       "      <th>selling_price</th>\n",
       "      <th>km_driven</th>\n",
       "      <th>seller_type</th>\n",
       "      <th>fuel</th>\n",
       "      <th>transmission</th>\n",
       "      <th>owner</th>\n",
       "    </tr>\n",
       "  </thead>\n",
       "  <tbody>\n",
       "    <tr>\n",
       "      <th>170</th>\n",
       "      <td>Volvo XC90 T8 Excellence BSIV</td>\n",
       "      <td>2017</td>\n",
       "      <td>10000000</td>\n",
       "      <td>30000</td>\n",
       "      <td>Individual</td>\n",
       "      <td>Petrol</td>\n",
       "      <td>Automatic</td>\n",
       "      <td>First Owner</td>\n",
       "    </tr>\n",
       "  </tbody>\n",
       "</table>\n",
       "</div>"
      ],
      "text/plain": [
       "                              name  year  selling_price  km_driven  \\\n",
       "170  Volvo XC90 T8 Excellence BSIV  2017       10000000      30000   \n",
       "\n",
       "    seller_type    fuel transmission        owner  \n",
       "170  Individual  Petrol    Automatic  First Owner  "
      ]
     },
     "execution_count": 109,
     "metadata": {},
     "output_type": "execute_result"
    }
   ],
   "source": [
    "df[df['selling_price']==df['selling_price'].max()]"
   ]
  },
  {
   "cell_type": "markdown",
   "metadata": {},
   "source": [
    "#### Name and specifications of the least expensive car available for sale"
   ]
  },
  {
   "cell_type": "code",
   "execution_count": 110,
   "metadata": {},
   "outputs": [
    {
     "data": {
      "text/html": [
       "<div>\n",
       "<style scoped>\n",
       "    .dataframe tbody tr th:only-of-type {\n",
       "        vertical-align: middle;\n",
       "    }\n",
       "\n",
       "    .dataframe tbody tr th {\n",
       "        vertical-align: top;\n",
       "    }\n",
       "\n",
       "    .dataframe thead th {\n",
       "        text-align: right;\n",
       "    }\n",
       "</style>\n",
       "<table border=\"1\" class=\"dataframe\">\n",
       "  <thead>\n",
       "    <tr style=\"text-align: right;\">\n",
       "      <th></th>\n",
       "      <th>name</th>\n",
       "      <th>year</th>\n",
       "      <th>selling_price</th>\n",
       "      <th>km_driven</th>\n",
       "      <th>seller_type</th>\n",
       "      <th>fuel</th>\n",
       "      <th>transmission</th>\n",
       "      <th>owner</th>\n",
       "    </tr>\n",
       "  </thead>\n",
       "  <tbody>\n",
       "    <tr>\n",
       "      <th>2662</th>\n",
       "      <td>Ford Ikon 1.6 ZXI NXt</td>\n",
       "      <td>2005</td>\n",
       "      <td>20000</td>\n",
       "      <td>25000</td>\n",
       "      <td>Individual</td>\n",
       "      <td>Petrol</td>\n",
       "      <td>Manual</td>\n",
       "      <td>Second Owner</td>\n",
       "    </tr>\n",
       "  </tbody>\n",
       "</table>\n",
       "</div>"
      ],
      "text/plain": [
       "                       name  year  selling_price  km_driven seller_type  \\\n",
       "2662  Ford Ikon 1.6 ZXI NXt  2005          20000      25000  Individual   \n",
       "\n",
       "        fuel transmission         owner  \n",
       "2662  Petrol       Manual  Second Owner  "
      ]
     },
     "execution_count": 110,
     "metadata": {},
     "output_type": "execute_result"
    }
   ],
   "source": [
    "df[df['selling_price']==df['selling_price'].min()]"
   ]
  },
  {
   "cell_type": "markdown",
   "metadata": {},
   "source": [
    "### List of cars available for sale using Petrol"
   ]
  },
  {
   "cell_type": "code",
   "execution_count": 111,
   "metadata": {},
   "outputs": [
    {
     "data": {
      "text/html": [
       "<div>\n",
       "<style scoped>\n",
       "    .dataframe tbody tr th:only-of-type {\n",
       "        vertical-align: middle;\n",
       "    }\n",
       "\n",
       "    .dataframe tbody tr th {\n",
       "        vertical-align: top;\n",
       "    }\n",
       "\n",
       "    .dataframe thead th {\n",
       "        text-align: right;\n",
       "    }\n",
       "</style>\n",
       "<table border=\"1\" class=\"dataframe\">\n",
       "  <thead>\n",
       "    <tr style=\"text-align: right;\">\n",
       "      <th></th>\n",
       "      <th>name</th>\n",
       "      <th>year</th>\n",
       "      <th>selling_price</th>\n",
       "      <th>km_driven</th>\n",
       "      <th>seller_type</th>\n",
       "      <th>fuel</th>\n",
       "      <th>transmission</th>\n",
       "      <th>owner</th>\n",
       "    </tr>\n",
       "  </thead>\n",
       "  <tbody>\n",
       "    <tr>\n",
       "      <th>0</th>\n",
       "      <td>Maruti 800 AC</td>\n",
       "      <td>2007</td>\n",
       "      <td>60000</td>\n",
       "      <td>70000</td>\n",
       "      <td>Individual</td>\n",
       "      <td>Petrol</td>\n",
       "      <td>Manual</td>\n",
       "      <td>First Owner</td>\n",
       "    </tr>\n",
       "    <tr>\n",
       "      <th>1</th>\n",
       "      <td>Maruti Wagon R LXI Minor</td>\n",
       "      <td>2007</td>\n",
       "      <td>135000</td>\n",
       "      <td>50000</td>\n",
       "      <td>Individual</td>\n",
       "      <td>Petrol</td>\n",
       "      <td>Manual</td>\n",
       "      <td>First Owner</td>\n",
       "    </tr>\n",
       "    <tr>\n",
       "      <th>3</th>\n",
       "      <td>Datsun RediGO T Option</td>\n",
       "      <td>2017</td>\n",
       "      <td>250000</td>\n",
       "      <td>46000</td>\n",
       "      <td>Individual</td>\n",
       "      <td>Petrol</td>\n",
       "      <td>Manual</td>\n",
       "      <td>First Owner</td>\n",
       "    </tr>\n",
       "    <tr>\n",
       "      <th>5</th>\n",
       "      <td>Maruti Alto LX BSIII</td>\n",
       "      <td>2007</td>\n",
       "      <td>140000</td>\n",
       "      <td>125000</td>\n",
       "      <td>Individual</td>\n",
       "      <td>Petrol</td>\n",
       "      <td>Manual</td>\n",
       "      <td>First Owner</td>\n",
       "    </tr>\n",
       "    <tr>\n",
       "      <th>6</th>\n",
       "      <td>Hyundai Xcent 1.2 Kappa S</td>\n",
       "      <td>2016</td>\n",
       "      <td>550000</td>\n",
       "      <td>25000</td>\n",
       "      <td>Individual</td>\n",
       "      <td>Petrol</td>\n",
       "      <td>Manual</td>\n",
       "      <td>First Owner</td>\n",
       "    </tr>\n",
       "    <tr>\n",
       "      <th>7</th>\n",
       "      <td>Tata Indigo Grand Petrol</td>\n",
       "      <td>2014</td>\n",
       "      <td>240000</td>\n",
       "      <td>60000</td>\n",
       "      <td>Individual</td>\n",
       "      <td>Petrol</td>\n",
       "      <td>Manual</td>\n",
       "      <td>Second Owner</td>\n",
       "    </tr>\n",
       "    <tr>\n",
       "      <th>8</th>\n",
       "      <td>Hyundai Creta 1.6 VTVT S</td>\n",
       "      <td>2015</td>\n",
       "      <td>850000</td>\n",
       "      <td>25000</td>\n",
       "      <td>Individual</td>\n",
       "      <td>Petrol</td>\n",
       "      <td>Manual</td>\n",
       "      <td>First Owner</td>\n",
       "    </tr>\n",
       "    <tr>\n",
       "      <th>10</th>\n",
       "      <td>Chevrolet Sail 1.2 Base</td>\n",
       "      <td>2015</td>\n",
       "      <td>260000</td>\n",
       "      <td>35000</td>\n",
       "      <td>Individual</td>\n",
       "      <td>Petrol</td>\n",
       "      <td>Manual</td>\n",
       "      <td>First Owner</td>\n",
       "    </tr>\n",
       "    <tr>\n",
       "      <th>11</th>\n",
       "      <td>Tata Indigo Grand Petrol</td>\n",
       "      <td>2014</td>\n",
       "      <td>250000</td>\n",
       "      <td>100000</td>\n",
       "      <td>Individual</td>\n",
       "      <td>Petrol</td>\n",
       "      <td>Manual</td>\n",
       "      <td>First Owner</td>\n",
       "    </tr>\n",
       "    <tr>\n",
       "      <th>12</th>\n",
       "      <td>Toyota Corolla Altis 1.8 VL CVT</td>\n",
       "      <td>2018</td>\n",
       "      <td>1650000</td>\n",
       "      <td>25000</td>\n",
       "      <td>Dealer</td>\n",
       "      <td>Petrol</td>\n",
       "      <td>Automatic</td>\n",
       "      <td>First Owner</td>\n",
       "    </tr>\n",
       "  </tbody>\n",
       "</table>\n",
       "</div>"
      ],
      "text/plain": [
       "                               name  year  selling_price  km_driven  \\\n",
       "0                     Maruti 800 AC  2007          60000      70000   \n",
       "1          Maruti Wagon R LXI Minor  2007         135000      50000   \n",
       "3            Datsun RediGO T Option  2017         250000      46000   \n",
       "5              Maruti Alto LX BSIII  2007         140000     125000   \n",
       "6         Hyundai Xcent 1.2 Kappa S  2016         550000      25000   \n",
       "7          Tata Indigo Grand Petrol  2014         240000      60000   \n",
       "8          Hyundai Creta 1.6 VTVT S  2015         850000      25000   \n",
       "10          Chevrolet Sail 1.2 Base  2015         260000      35000   \n",
       "11         Tata Indigo Grand Petrol  2014         250000     100000   \n",
       "12  Toyota Corolla Altis 1.8 VL CVT  2018        1650000      25000   \n",
       "\n",
       "   seller_type    fuel transmission         owner  \n",
       "0   Individual  Petrol       Manual   First Owner  \n",
       "1   Individual  Petrol       Manual   First Owner  \n",
       "3   Individual  Petrol       Manual   First Owner  \n",
       "5   Individual  Petrol       Manual   First Owner  \n",
       "6   Individual  Petrol       Manual   First Owner  \n",
       "7   Individual  Petrol       Manual  Second Owner  \n",
       "8   Individual  Petrol       Manual   First Owner  \n",
       "10  Individual  Petrol       Manual   First Owner  \n",
       "11  Individual  Petrol       Manual   First Owner  \n",
       "12      Dealer  Petrol    Automatic   First Owner  "
      ]
     },
     "execution_count": 111,
     "metadata": {},
     "output_type": "execute_result"
    }
   ],
   "source": [
    "petrol_car=df[df['fuel']=='Petrol']\n",
    "petrol_car.head(10)"
   ]
  },
  {
   "cell_type": "markdown",
   "metadata": {},
   "source": [
    "#### Most expensive car available for sale using petrol "
   ]
  },
  {
   "cell_type": "code",
   "execution_count": 112,
   "metadata": {},
   "outputs": [
    {
     "data": {
      "text/html": [
       "<div>\n",
       "<style scoped>\n",
       "    .dataframe tbody tr th:only-of-type {\n",
       "        vertical-align: middle;\n",
       "    }\n",
       "\n",
       "    .dataframe tbody tr th {\n",
       "        vertical-align: top;\n",
       "    }\n",
       "\n",
       "    .dataframe thead th {\n",
       "        text-align: right;\n",
       "    }\n",
       "</style>\n",
       "<table border=\"1\" class=\"dataframe\">\n",
       "  <thead>\n",
       "    <tr style=\"text-align: right;\">\n",
       "      <th></th>\n",
       "      <th>name</th>\n",
       "      <th>year</th>\n",
       "      <th>selling_price</th>\n",
       "      <th>km_driven</th>\n",
       "      <th>seller_type</th>\n",
       "      <th>fuel</th>\n",
       "      <th>transmission</th>\n",
       "      <th>owner</th>\n",
       "    </tr>\n",
       "  </thead>\n",
       "  <tbody>\n",
       "    <tr>\n",
       "      <th>170</th>\n",
       "      <td>Volvo XC90 T8 Excellence BSIV</td>\n",
       "      <td>2017</td>\n",
       "      <td>10000000</td>\n",
       "      <td>30000</td>\n",
       "      <td>Individual</td>\n",
       "      <td>Petrol</td>\n",
       "      <td>Automatic</td>\n",
       "      <td>First Owner</td>\n",
       "    </tr>\n",
       "  </tbody>\n",
       "</table>\n",
       "</div>"
      ],
      "text/plain": [
       "                              name  year  selling_price  km_driven  \\\n",
       "170  Volvo XC90 T8 Excellence BSIV  2017       10000000      30000   \n",
       "\n",
       "    seller_type    fuel transmission        owner  \n",
       "170  Individual  Petrol    Automatic  First Owner  "
      ]
     },
     "execution_count": 112,
     "metadata": {},
     "output_type": "execute_result"
    }
   ],
   "source": [
    "petrol_car[petrol_car['selling_price']==petrol_car['selling_price'].max()]"
   ]
  },
  {
   "cell_type": "markdown",
   "metadata": {},
   "source": [
    "#### Least Expensive car available for sale using Petrol"
   ]
  },
  {
   "cell_type": "code",
   "execution_count": 113,
   "metadata": {},
   "outputs": [
    {
     "data": {
      "text/html": [
       "<div>\n",
       "<style scoped>\n",
       "    .dataframe tbody tr th:only-of-type {\n",
       "        vertical-align: middle;\n",
       "    }\n",
       "\n",
       "    .dataframe tbody tr th {\n",
       "        vertical-align: top;\n",
       "    }\n",
       "\n",
       "    .dataframe thead th {\n",
       "        text-align: right;\n",
       "    }\n",
       "</style>\n",
       "<table border=\"1\" class=\"dataframe\">\n",
       "  <thead>\n",
       "    <tr style=\"text-align: right;\">\n",
       "      <th></th>\n",
       "      <th>name</th>\n",
       "      <th>year</th>\n",
       "      <th>selling_price</th>\n",
       "      <th>km_driven</th>\n",
       "      <th>seller_type</th>\n",
       "      <th>fuel</th>\n",
       "      <th>transmission</th>\n",
       "      <th>owner</th>\n",
       "    </tr>\n",
       "  </thead>\n",
       "  <tbody>\n",
       "    <tr>\n",
       "      <th>2662</th>\n",
       "      <td>Ford Ikon 1.6 ZXI NXt</td>\n",
       "      <td>2005</td>\n",
       "      <td>20000</td>\n",
       "      <td>25000</td>\n",
       "      <td>Individual</td>\n",
       "      <td>Petrol</td>\n",
       "      <td>Manual</td>\n",
       "      <td>Second Owner</td>\n",
       "    </tr>\n",
       "  </tbody>\n",
       "</table>\n",
       "</div>"
      ],
      "text/plain": [
       "                       name  year  selling_price  km_driven seller_type  \\\n",
       "2662  Ford Ikon 1.6 ZXI NXt  2005          20000      25000  Individual   \n",
       "\n",
       "        fuel transmission         owner  \n",
       "2662  Petrol       Manual  Second Owner  "
      ]
     },
     "execution_count": 113,
     "metadata": {},
     "output_type": "execute_result"
    }
   ],
   "source": [
    "petrol_car[petrol_car['selling_price']==petrol_car['selling_price'].min()]"
   ]
  },
  {
   "cell_type": "markdown",
   "metadata": {},
   "source": [
    "### List of cars available for sale which works on Electricity"
   ]
  },
  {
   "cell_type": "code",
   "execution_count": 114,
   "metadata": {},
   "outputs": [
    {
     "data": {
      "text/html": [
       "<div>\n",
       "<style scoped>\n",
       "    .dataframe tbody tr th:only-of-type {\n",
       "        vertical-align: middle;\n",
       "    }\n",
       "\n",
       "    .dataframe tbody tr th {\n",
       "        vertical-align: top;\n",
       "    }\n",
       "\n",
       "    .dataframe thead th {\n",
       "        text-align: right;\n",
       "    }\n",
       "</style>\n",
       "<table border=\"1\" class=\"dataframe\">\n",
       "  <thead>\n",
       "    <tr style=\"text-align: right;\">\n",
       "      <th></th>\n",
       "      <th>name</th>\n",
       "      <th>year</th>\n",
       "      <th>selling_price</th>\n",
       "      <th>km_driven</th>\n",
       "      <th>seller_type</th>\n",
       "      <th>fuel</th>\n",
       "      <th>transmission</th>\n",
       "      <th>owner</th>\n",
       "    </tr>\n",
       "  </thead>\n",
       "  <tbody>\n",
       "    <tr>\n",
       "      <th>4145</th>\n",
       "      <td>Toyota Camry Hybrid</td>\n",
       "      <td>2006</td>\n",
       "      <td>310000</td>\n",
       "      <td>62000</td>\n",
       "      <td>Dealer</td>\n",
       "      <td>Electric</td>\n",
       "      <td>Automatic</td>\n",
       "      <td>Second Owner</td>\n",
       "    </tr>\n",
       "  </tbody>\n",
       "</table>\n",
       "</div>"
      ],
      "text/plain": [
       "                     name  year  selling_price  km_driven seller_type  \\\n",
       "4145  Toyota Camry Hybrid  2006         310000      62000      Dealer   \n",
       "\n",
       "          fuel transmission         owner  \n",
       "4145  Electric    Automatic  Second Owner  "
      ]
     },
     "execution_count": 114,
     "metadata": {},
     "output_type": "execute_result"
    }
   ],
   "source": [
    "electric_cars=df[df['fuel']=='Electric']\n",
    "electric_cars"
   ]
  },
  {
   "cell_type": "markdown",
   "metadata": {},
   "source": [
    "### List of cars available for sale using Diesel"
   ]
  },
  {
   "cell_type": "code",
   "execution_count": 115,
   "metadata": {},
   "outputs": [
    {
     "data": {
      "text/html": [
       "<div>\n",
       "<style scoped>\n",
       "    .dataframe tbody tr th:only-of-type {\n",
       "        vertical-align: middle;\n",
       "    }\n",
       "\n",
       "    .dataframe tbody tr th {\n",
       "        vertical-align: top;\n",
       "    }\n",
       "\n",
       "    .dataframe thead th {\n",
       "        text-align: right;\n",
       "    }\n",
       "</style>\n",
       "<table border=\"1\" class=\"dataframe\">\n",
       "  <thead>\n",
       "    <tr style=\"text-align: right;\">\n",
       "      <th></th>\n",
       "      <th>name</th>\n",
       "      <th>year</th>\n",
       "      <th>selling_price</th>\n",
       "      <th>km_driven</th>\n",
       "      <th>seller_type</th>\n",
       "      <th>fuel</th>\n",
       "      <th>transmission</th>\n",
       "      <th>owner</th>\n",
       "    </tr>\n",
       "  </thead>\n",
       "  <tbody>\n",
       "    <tr>\n",
       "      <th>2</th>\n",
       "      <td>Hyundai Verna 1.6 SX</td>\n",
       "      <td>2012</td>\n",
       "      <td>600000</td>\n",
       "      <td>100000</td>\n",
       "      <td>Individual</td>\n",
       "      <td>Diesel</td>\n",
       "      <td>Manual</td>\n",
       "      <td>First Owner</td>\n",
       "    </tr>\n",
       "    <tr>\n",
       "      <th>4</th>\n",
       "      <td>Honda Amaze VX i-DTEC</td>\n",
       "      <td>2014</td>\n",
       "      <td>450000</td>\n",
       "      <td>141000</td>\n",
       "      <td>Individual</td>\n",
       "      <td>Diesel</td>\n",
       "      <td>Manual</td>\n",
       "      <td>Second Owner</td>\n",
       "    </tr>\n",
       "    <tr>\n",
       "      <th>15</th>\n",
       "      <td>Hyundai Verna 1.6 SX</td>\n",
       "      <td>2012</td>\n",
       "      <td>600000</td>\n",
       "      <td>100000</td>\n",
       "      <td>Individual</td>\n",
       "      <td>Diesel</td>\n",
       "      <td>Manual</td>\n",
       "      <td>First Owner</td>\n",
       "    </tr>\n",
       "    <tr>\n",
       "      <th>17</th>\n",
       "      <td>Honda Amaze VX i-DTEC</td>\n",
       "      <td>2014</td>\n",
       "      <td>450000</td>\n",
       "      <td>141000</td>\n",
       "      <td>Individual</td>\n",
       "      <td>Diesel</td>\n",
       "      <td>Manual</td>\n",
       "      <td>Second Owner</td>\n",
       "    </tr>\n",
       "    <tr>\n",
       "      <th>27</th>\n",
       "      <td>Hyundai Venue SX Opt Diesel</td>\n",
       "      <td>2019</td>\n",
       "      <td>1195000</td>\n",
       "      <td>5000</td>\n",
       "      <td>Dealer</td>\n",
       "      <td>Diesel</td>\n",
       "      <td>Manual</td>\n",
       "      <td>First Owner</td>\n",
       "    </tr>\n",
       "    <tr>\n",
       "      <th>28</th>\n",
       "      <td>Chevrolet Enjoy TCDi LTZ 7 Seater</td>\n",
       "      <td>2013</td>\n",
       "      <td>390000</td>\n",
       "      <td>33000</td>\n",
       "      <td>Individual</td>\n",
       "      <td>Diesel</td>\n",
       "      <td>Manual</td>\n",
       "      <td>Second Owner</td>\n",
       "    </tr>\n",
       "    <tr>\n",
       "      <th>29</th>\n",
       "      <td>Jaguar XF 2.2 Litre Luxury</td>\n",
       "      <td>2014</td>\n",
       "      <td>1964999</td>\n",
       "      <td>28000</td>\n",
       "      <td>Dealer</td>\n",
       "      <td>Diesel</td>\n",
       "      <td>Automatic</td>\n",
       "      <td>First Owner</td>\n",
       "    </tr>\n",
       "    <tr>\n",
       "      <th>30</th>\n",
       "      <td>Mercedes-Benz New C-Class 220 CDI AT</td>\n",
       "      <td>2013</td>\n",
       "      <td>1425000</td>\n",
       "      <td>59000</td>\n",
       "      <td>Dealer</td>\n",
       "      <td>Diesel</td>\n",
       "      <td>Automatic</td>\n",
       "      <td>First Owner</td>\n",
       "    </tr>\n",
       "    <tr>\n",
       "      <th>31</th>\n",
       "      <td>Maruti Vitara Brezza ZDi Plus AMT</td>\n",
       "      <td>2018</td>\n",
       "      <td>975000</td>\n",
       "      <td>4500</td>\n",
       "      <td>Dealer</td>\n",
       "      <td>Diesel</td>\n",
       "      <td>Automatic</td>\n",
       "      <td>First Owner</td>\n",
       "    </tr>\n",
       "    <tr>\n",
       "      <th>32</th>\n",
       "      <td>Audi Q5 2.0 TDI</td>\n",
       "      <td>2011</td>\n",
       "      <td>1190000</td>\n",
       "      <td>175900</td>\n",
       "      <td>Dealer</td>\n",
       "      <td>Diesel</td>\n",
       "      <td>Automatic</td>\n",
       "      <td>First Owner</td>\n",
       "    </tr>\n",
       "  </tbody>\n",
       "</table>\n",
       "</div>"
      ],
      "text/plain": [
       "                                    name  year  selling_price  km_driven  \\\n",
       "2                   Hyundai Verna 1.6 SX  2012         600000     100000   \n",
       "4                  Honda Amaze VX i-DTEC  2014         450000     141000   \n",
       "15                  Hyundai Verna 1.6 SX  2012         600000     100000   \n",
       "17                 Honda Amaze VX i-DTEC  2014         450000     141000   \n",
       "27           Hyundai Venue SX Opt Diesel  2019        1195000       5000   \n",
       "28     Chevrolet Enjoy TCDi LTZ 7 Seater  2013         390000      33000   \n",
       "29            Jaguar XF 2.2 Litre Luxury  2014        1964999      28000   \n",
       "30  Mercedes-Benz New C-Class 220 CDI AT  2013        1425000      59000   \n",
       "31     Maruti Vitara Brezza ZDi Plus AMT  2018         975000       4500   \n",
       "32                       Audi Q5 2.0 TDI  2011        1190000     175900   \n",
       "\n",
       "   seller_type    fuel transmission         owner  \n",
       "2   Individual  Diesel       Manual   First Owner  \n",
       "4   Individual  Diesel       Manual  Second Owner  \n",
       "15  Individual  Diesel       Manual   First Owner  \n",
       "17  Individual  Diesel       Manual  Second Owner  \n",
       "27      Dealer  Diesel       Manual   First Owner  \n",
       "28  Individual  Diesel       Manual  Second Owner  \n",
       "29      Dealer  Diesel    Automatic   First Owner  \n",
       "30      Dealer  Diesel    Automatic   First Owner  \n",
       "31      Dealer  Diesel    Automatic   First Owner  \n",
       "32      Dealer  Diesel    Automatic   First Owner  "
      ]
     },
     "execution_count": 115,
     "metadata": {},
     "output_type": "execute_result"
    }
   ],
   "source": [
    "diesel_cars=df[df['fuel']=='Diesel']\n",
    "diesel_cars.head(10)"
   ]
  },
  {
   "cell_type": "markdown",
   "metadata": {},
   "source": [
    "#### Most expensive selling car using Diesel"
   ]
  },
  {
   "cell_type": "code",
   "execution_count": 116,
   "metadata": {},
   "outputs": [
    {
     "data": {
      "text/html": [
       "<div>\n",
       "<style scoped>\n",
       "    .dataframe tbody tr th:only-of-type {\n",
       "        vertical-align: middle;\n",
       "    }\n",
       "\n",
       "    .dataframe tbody tr th {\n",
       "        vertical-align: top;\n",
       "    }\n",
       "\n",
       "    .dataframe thead th {\n",
       "        text-align: right;\n",
       "    }\n",
       "</style>\n",
       "<table border=\"1\" class=\"dataframe\">\n",
       "  <thead>\n",
       "    <tr style=\"text-align: right;\">\n",
       "      <th></th>\n",
       "      <th>name</th>\n",
       "      <th>year</th>\n",
       "      <th>selling_price</th>\n",
       "      <th>km_driven</th>\n",
       "      <th>seller_type</th>\n",
       "      <th>fuel</th>\n",
       "      <th>transmission</th>\n",
       "      <th>owner</th>\n",
       "    </tr>\n",
       "  </thead>\n",
       "  <tbody>\n",
       "    <tr>\n",
       "      <th>89</th>\n",
       "      <td>Mercedes-Benz S-Class S 350d Connoisseurs Edition</td>\n",
       "      <td>2017</td>\n",
       "      <td>8150000</td>\n",
       "      <td>6500</td>\n",
       "      <td>Dealer</td>\n",
       "      <td>Diesel</td>\n",
       "      <td>Automatic</td>\n",
       "      <td>First Owner</td>\n",
       "    </tr>\n",
       "  </tbody>\n",
       "</table>\n",
       "</div>"
      ],
      "text/plain": [
       "                                                 name  year  selling_price  \\\n",
       "89  Mercedes-Benz S-Class S 350d Connoisseurs Edition  2017        8150000   \n",
       "\n",
       "    km_driven seller_type    fuel transmission        owner  \n",
       "89       6500      Dealer  Diesel    Automatic  First Owner  "
      ]
     },
     "execution_count": 116,
     "metadata": {},
     "output_type": "execute_result"
    }
   ],
   "source": [
    "diesel_cars[diesel_cars['selling_price']==diesel_cars['selling_price'].max()]"
   ]
  },
  {
   "cell_type": "markdown",
   "metadata": {},
   "source": [
    "#### Least Expensive car available for sale using Diesel"
   ]
  },
  {
   "cell_type": "code",
   "execution_count": 117,
   "metadata": {},
   "outputs": [
    {
     "data": {
      "text/html": [
       "<div>\n",
       "<style scoped>\n",
       "    .dataframe tbody tr th:only-of-type {\n",
       "        vertical-align: middle;\n",
       "    }\n",
       "\n",
       "    .dataframe tbody tr th {\n",
       "        vertical-align: top;\n",
       "    }\n",
       "\n",
       "    .dataframe thead th {\n",
       "        text-align: right;\n",
       "    }\n",
       "</style>\n",
       "<table border=\"1\" class=\"dataframe\">\n",
       "  <thead>\n",
       "    <tr style=\"text-align: right;\">\n",
       "      <th></th>\n",
       "      <th>name</th>\n",
       "      <th>year</th>\n",
       "      <th>selling_price</th>\n",
       "      <th>km_driven</th>\n",
       "      <th>seller_type</th>\n",
       "      <th>fuel</th>\n",
       "      <th>transmission</th>\n",
       "      <th>owner</th>\n",
       "    </tr>\n",
       "  </thead>\n",
       "  <tbody>\n",
       "    <tr>\n",
       "      <th>5674</th>\n",
       "      <td>Tata Indica DLX</td>\n",
       "      <td>2003</td>\n",
       "      <td>40000</td>\n",
       "      <td>70000</td>\n",
       "      <td>Individual</td>\n",
       "      <td>Diesel</td>\n",
       "      <td>Manual</td>\n",
       "      <td>First Owner</td>\n",
       "    </tr>\n",
       "  </tbody>\n",
       "</table>\n",
       "</div>"
      ],
      "text/plain": [
       "                 name  year  selling_price  km_driven seller_type    fuel  \\\n",
       "5674  Tata Indica DLX  2003          40000      70000  Individual  Diesel   \n",
       "\n",
       "     transmission        owner  \n",
       "5674       Manual  First Owner  "
      ]
     },
     "execution_count": 117,
     "metadata": {},
     "output_type": "execute_result"
    }
   ],
   "source": [
    "diesel_cars[diesel_cars['selling_price']==diesel_cars['selling_price'].min()]"
   ]
  },
  {
   "cell_type": "markdown",
   "metadata": {},
   "source": [
    "### List of Selling cars using operating on LPG"
   ]
  },
  {
   "cell_type": "code",
   "execution_count": 118,
   "metadata": {},
   "outputs": [
    {
     "data": {
      "text/html": [
       "<div>\n",
       "<style scoped>\n",
       "    .dataframe tbody tr th:only-of-type {\n",
       "        vertical-align: middle;\n",
       "    }\n",
       "\n",
       "    .dataframe tbody tr th {\n",
       "        vertical-align: top;\n",
       "    }\n",
       "\n",
       "    .dataframe thead th {\n",
       "        text-align: right;\n",
       "    }\n",
       "</style>\n",
       "<table border=\"1\" class=\"dataframe\">\n",
       "  <thead>\n",
       "    <tr style=\"text-align: right;\">\n",
       "      <th></th>\n",
       "      <th>name</th>\n",
       "      <th>year</th>\n",
       "      <th>selling_price</th>\n",
       "      <th>km_driven</th>\n",
       "      <th>seller_type</th>\n",
       "      <th>fuel</th>\n",
       "      <th>transmission</th>\n",
       "      <th>owner</th>\n",
       "    </tr>\n",
       "  </thead>\n",
       "  <tbody>\n",
       "    <tr>\n",
       "      <th>157</th>\n",
       "      <td>Maruti Wagon R DUO LPG</td>\n",
       "      <td>2014</td>\n",
       "      <td>210000</td>\n",
       "      <td>90000</td>\n",
       "      <td>Individual</td>\n",
       "      <td>LPG</td>\n",
       "      <td>Manual</td>\n",
       "      <td>First Owner</td>\n",
       "    </tr>\n",
       "    <tr>\n",
       "      <th>222</th>\n",
       "      <td>Maruti Omni LPG CARGO BSIII W IMMOBILISER</td>\n",
       "      <td>2009</td>\n",
       "      <td>80000</td>\n",
       "      <td>90000</td>\n",
       "      <td>Individual</td>\n",
       "      <td>LPG</td>\n",
       "      <td>Manual</td>\n",
       "      <td>Second Owner</td>\n",
       "    </tr>\n",
       "    <tr>\n",
       "      <th>483</th>\n",
       "      <td>Hyundai EON LPG Magna Plus</td>\n",
       "      <td>2012</td>\n",
       "      <td>180000</td>\n",
       "      <td>90000</td>\n",
       "      <td>Individual</td>\n",
       "      <td>LPG</td>\n",
       "      <td>Manual</td>\n",
       "      <td>First Owner</td>\n",
       "    </tr>\n",
       "    <tr>\n",
       "      <th>495</th>\n",
       "      <td>Hyundai Santro Xing GLS Audio LPG</td>\n",
       "      <td>2012</td>\n",
       "      <td>250000</td>\n",
       "      <td>100000</td>\n",
       "      <td>Individual</td>\n",
       "      <td>LPG</td>\n",
       "      <td>Manual</td>\n",
       "      <td>First Owner</td>\n",
       "    </tr>\n",
       "    <tr>\n",
       "      <th>657</th>\n",
       "      <td>Hyundai i10 Magna LPG</td>\n",
       "      <td>2013</td>\n",
       "      <td>250000</td>\n",
       "      <td>88600</td>\n",
       "      <td>Individual</td>\n",
       "      <td>LPG</td>\n",
       "      <td>Manual</td>\n",
       "      <td>First Owner</td>\n",
       "    </tr>\n",
       "    <tr>\n",
       "      <th>703</th>\n",
       "      <td>Hyundai Santro Xing GL Plus LPG</td>\n",
       "      <td>2011</td>\n",
       "      <td>229999</td>\n",
       "      <td>60000</td>\n",
       "      <td>Individual</td>\n",
       "      <td>LPG</td>\n",
       "      <td>Manual</td>\n",
       "      <td>Second Owner</td>\n",
       "    </tr>\n",
       "    <tr>\n",
       "      <th>1355</th>\n",
       "      <td>Maruti Wagon R LXI LPG BSIV</td>\n",
       "      <td>2012</td>\n",
       "      <td>220000</td>\n",
       "      <td>80000</td>\n",
       "      <td>Individual</td>\n",
       "      <td>LPG</td>\n",
       "      <td>Manual</td>\n",
       "      <td>Second Owner</td>\n",
       "    </tr>\n",
       "    <tr>\n",
       "      <th>1435</th>\n",
       "      <td>Hyundai i10 Magna LPG</td>\n",
       "      <td>2014</td>\n",
       "      <td>290000</td>\n",
       "      <td>29000</td>\n",
       "      <td>Individual</td>\n",
       "      <td>LPG</td>\n",
       "      <td>Manual</td>\n",
       "      <td>First Owner</td>\n",
       "    </tr>\n",
       "    <tr>\n",
       "      <th>1670</th>\n",
       "      <td>Maruti Wagon R LXI DUO BS IV</td>\n",
       "      <td>2012</td>\n",
       "      <td>180000</td>\n",
       "      <td>60000</td>\n",
       "      <td>Individual</td>\n",
       "      <td>LPG</td>\n",
       "      <td>Manual</td>\n",
       "      <td>First Owner</td>\n",
       "    </tr>\n",
       "    <tr>\n",
       "      <th>1699</th>\n",
       "      <td>Maruti Omni 5 Str STD LPG</td>\n",
       "      <td>1998</td>\n",
       "      <td>50000</td>\n",
       "      <td>35000</td>\n",
       "      <td>Individual</td>\n",
       "      <td>LPG</td>\n",
       "      <td>Manual</td>\n",
       "      <td>Second Owner</td>\n",
       "    </tr>\n",
       "  </tbody>\n",
       "</table>\n",
       "</div>"
      ],
      "text/plain": [
       "                                           name  year  selling_price  \\\n",
       "157                      Maruti Wagon R DUO LPG  2014         210000   \n",
       "222   Maruti Omni LPG CARGO BSIII W IMMOBILISER  2009          80000   \n",
       "483                  Hyundai EON LPG Magna Plus  2012         180000   \n",
       "495           Hyundai Santro Xing GLS Audio LPG  2012         250000   \n",
       "657                       Hyundai i10 Magna LPG  2013         250000   \n",
       "703             Hyundai Santro Xing GL Plus LPG  2011         229999   \n",
       "1355                Maruti Wagon R LXI LPG BSIV  2012         220000   \n",
       "1435                      Hyundai i10 Magna LPG  2014         290000   \n",
       "1670               Maruti Wagon R LXI DUO BS IV  2012         180000   \n",
       "1699                  Maruti Omni 5 Str STD LPG  1998          50000   \n",
       "\n",
       "      km_driven seller_type fuel transmission         owner  \n",
       "157       90000  Individual  LPG       Manual   First Owner  \n",
       "222       90000  Individual  LPG       Manual  Second Owner  \n",
       "483       90000  Individual  LPG       Manual   First Owner  \n",
       "495      100000  Individual  LPG       Manual   First Owner  \n",
       "657       88600  Individual  LPG       Manual   First Owner  \n",
       "703       60000  Individual  LPG       Manual  Second Owner  \n",
       "1355      80000  Individual  LPG       Manual  Second Owner  \n",
       "1435      29000  Individual  LPG       Manual   First Owner  \n",
       "1670      60000  Individual  LPG       Manual   First Owner  \n",
       "1699      35000  Individual  LPG       Manual  Second Owner  "
      ]
     },
     "execution_count": 118,
     "metadata": {},
     "output_type": "execute_result"
    }
   ],
   "source": [
    "lpg_cars=df[df['fuel']=='LPG']\n",
    "lpg_cars.head(10)"
   ]
  },
  {
   "cell_type": "markdown",
   "metadata": {},
   "source": [
    "#### How many cars are selling which operate on LPG"
   ]
  },
  {
   "cell_type": "code",
   "execution_count": 119,
   "metadata": {},
   "outputs": [
    {
     "data": {
      "text/plain": [
       "61"
      ]
     },
     "execution_count": 119,
     "metadata": {},
     "output_type": "execute_result"
    }
   ],
   "source": [
    "len(lpg_cars)"
   ]
  },
  {
   "cell_type": "markdown",
   "metadata": {},
   "source": [
    "#### Which Cars are available for sale using LPG the most"
   ]
  },
  {
   "cell_type": "code",
   "execution_count": 120,
   "metadata": {},
   "outputs": [
    {
     "data": {
      "text/plain": [
       "Maruti Wagon R LXI DUO BSIII                 10\n",
       "Maruti Wagon R Duo Lxi                        7\n",
       "Hyundai i10 Magna LPG                         6\n",
       "Maruti Wagon R LXI LPG BSIV                   5\n",
       "Maruti Omni LPG STD BSIV                      4\n",
       "Hyundai Santro Xing GLS LPG                   4\n",
       "Maruti Omni LPG CARGO BSIII W IMMOBILISER     4\n",
       "Hyundai EON LPG Magna Plus                    3\n",
       "Hyundai Santro Xing GL Plus LPG               3\n",
       "Maruti Wagon R LXI DUO BS IV                  2\n",
       "Hyundai Santro Xing GL LPG                    1\n",
       "Maruti Wagon R DUO LPG                        1\n",
       "Chevrolet Spark 1.0 LT LPG                    1\n",
       "Hyundai Accent Executive LPG                  1\n",
       "Hyundai i10 LPG                               1\n",
       "Hyundai Santro Xing GLS Audio LPG             1\n",
       "Maruti 800 DUO AC LPG                         1\n",
       "Maruti Omni 5 Str STD LPG                     1\n",
       "Hyundai EON LPG Era Plus                      1\n",
       "Chevrolet Spark 1.0 PS LPG                    1\n",
       "Chevrolet Beat LT LPG                         1\n",
       "Maruti 800 AC LPG                             1\n",
       "Hyundai i10 Sportz 1.1L LPG                   1\n",
       "Name: name, dtype: int64"
      ]
     },
     "execution_count": 120,
     "metadata": {},
     "output_type": "execute_result"
    }
   ],
   "source": [
    "lpg_car_count=lpg_cars['name'].value_counts().sort_values(ascending=False)\n",
    "lpg_car_count"
   ]
  },
  {
   "cell_type": "code",
   "execution_count": 121,
   "metadata": {},
   "outputs": [
    {
     "data": {
      "text/plain": [
       "<matplotlib.axes._subplots.AxesSubplot at 0x2a460fc3670>"
      ]
     },
     "execution_count": 121,
     "metadata": {},
     "output_type": "execute_result"
    },
    {
     "data": {
      "image/png": "[encoded data removed]",
      "text/plain": [
       "<Figure size 432x288 with 1 Axes>"
      ]
     },
     "metadata": {
      "needs_background": "light"
     },
     "output_type": "display_data"
    }
   ],
   "source": [
    "lpg_car_count.head(10).plot(kind='barh')\n"
   ]
  },
  {
   "cell_type": "markdown",
   "metadata": {},
   "source": [
    "#### Fuel wise cars selling count"
   ]
  },
  {
   "cell_type": "code",
   "execution_count": 122,
   "metadata": {},
   "outputs": [
    {
     "data": {
      "text/plain": [
       "fuel\n",
       "Diesel      6555\n",
       "Petrol      5754\n",
       "CNG           97\n",
       "LPG           61\n",
       "Electric       1\n",
       "Name: fuel, dtype: int64"
      ]
     },
     "execution_count": 122,
     "metadata": {},
     "output_type": "execute_result"
    }
   ],
   "source": [
    "fuel_wise_count=df.groupby('fuel').fuel.count().sort_values(ascending=False)\n",
    "fuel_wise_count"
   ]
  },
  {
   "cell_type": "markdown",
   "metadata": {},
   "source": [
    "##### Visualization"
   ]
  },
  {
   "cell_type": "code",
   "execution_count": 123,
   "metadata": {},
   "outputs": [
    {
     "data": {
      "image/png": "[encoded data removed]",
      "text/plain": [
       "<Figure size 432x288 with 1 Axes>"
      ]
     },
     "metadata": {
      "needs_background": "light"
     },
     "output_type": "display_data"
    }
   ],
   "source": [
    "color_list=['red','lightblue','orange','pink','grey']\n",
    "a=plt.bar(fuel_wise_count.index,fuel_wise_count.values,color=color_list)\n",
    "plt.xlabel('Type of fuel')\n",
    "plt.ylabel('No. of cars available')\n",
    "plt.title('Number of cars available as per fuel')\n",
    "for val in a:\n",
    "    height=val.get_height()\n",
    "    plt.text(val.get_x(),1.004*height,height)\n",
    "plt.show()"
   ]
  },
  {
   "cell_type": "code",
   "execution_count": 124,
   "metadata": {},
   "outputs": [
    {
     "data": {
      "text/html": [
       "<div>\n",
       "<style scoped>\n",
       "    .dataframe tbody tr th:only-of-type {\n",
       "        vertical-align: middle;\n",
       "    }\n",
       "\n",
       "    .dataframe tbody tr th {\n",
       "        vertical-align: top;\n",
       "    }\n",
       "\n",
       "    .dataframe thead th {\n",
       "        text-align: right;\n",
       "    }\n",
       "</style>\n",
       "<table border=\"1\" class=\"dataframe\">\n",
       "  <thead>\n",
       "    <tr style=\"text-align: right;\">\n",
       "      <th></th>\n",
       "      <th>name</th>\n",
       "      <th>year</th>\n",
       "      <th>selling_price</th>\n",
       "      <th>km_driven</th>\n",
       "      <th>seller_type</th>\n",
       "      <th>fuel</th>\n",
       "      <th>transmission</th>\n",
       "      <th>owner</th>\n",
       "    </tr>\n",
       "  </thead>\n",
       "  <tbody>\n",
       "    <tr>\n",
       "      <th>0</th>\n",
       "      <td>Maruti 800 AC</td>\n",
       "      <td>2007</td>\n",
       "      <td>60000</td>\n",
       "      <td>70000</td>\n",
       "      <td>Individual</td>\n",
       "      <td>Petrol</td>\n",
       "      <td>Manual</td>\n",
       "      <td>First Owner</td>\n",
       "    </tr>\n",
       "    <tr>\n",
       "      <th>1</th>\n",
       "      <td>Maruti Wagon R LXI Minor</td>\n",
       "      <td>2007</td>\n",
       "      <td>135000</td>\n",
       "      <td>50000</td>\n",
       "      <td>Individual</td>\n",
       "      <td>Petrol</td>\n",
       "      <td>Manual</td>\n",
       "      <td>First Owner</td>\n",
       "    </tr>\n",
       "  </tbody>\n",
       "</table>\n",
       "</div>"
      ],
      "text/plain": [
       "                       name  year  selling_price  km_driven seller_type  \\\n",
       "0             Maruti 800 AC  2007          60000      70000  Individual   \n",
       "1  Maruti Wagon R LXI Minor  2007         135000      50000  Individual   \n",
       "\n",
       "     fuel transmission        owner  \n",
       "0  Petrol       Manual  First Owner  \n",
       "1  Petrol       Manual  First Owner  "
      ]
     },
     "execution_count": 124,
     "metadata": {},
     "output_type": "execute_result"
    }
   ],
   "source": [
    "df.head(2)"
   ]
  },
  {
   "cell_type": "markdown",
   "metadata": {},
   "source": [
    "### Owner wise count"
   ]
  },
  {
   "cell_type": "code",
   "execution_count": 125,
   "metadata": {},
   "outputs": [
    {
     "data": {
      "text/plain": [
       "array(['First Owner', 'Second Owner', 'Fourth & Above Owner',\n",
       "       'Third Owner', 'Test Drive Car'], dtype=object)"
      ]
     },
     "execution_count": 125,
     "metadata": {},
     "output_type": "execute_result"
    }
   ],
   "source": [
    "df['owner'].unique()"
   ]
  },
  {
   "cell_type": "code",
   "execution_count": 126,
   "metadata": {},
   "outputs": [
    {
     "data": {
      "text/plain": [
       "owner\n",
       "First Owner             8121\n",
       "Second Owner            3211\n",
       "Third Owner              859\n",
       "Fourth & Above Owner     255\n",
       "Test Drive Car            22\n",
       "Name: owner, dtype: int64"
      ]
     },
     "execution_count": 126,
     "metadata": {},
     "output_type": "execute_result"
    }
   ],
   "source": [
    "df.groupby('owner').owner.count().sort_values(ascending=False)"
   ]
  },
  {
   "cell_type": "code",
   "execution_count": 127,
   "metadata": {},
   "outputs": [
    {
     "data": {
      "text/plain": [
       "<matplotlib.axes._subplots.AxesSubplot at 0x2a46109f7f0>"
      ]
     },
     "execution_count": 127,
     "metadata": {},
     "output_type": "execute_result"
    },
    {
     "data": {
      "image/png": "[encoded data removed]",
      "text/plain": [
       "<Figure size 432x288 with 1 Axes>"
      ]
     },
     "metadata": {},
     "output_type": "display_data"
    }
   ],
   "source": [
    "df.groupby('owner').owner.count().sort_values(ascending=False).plot(kind='pie',autopct='%.2f%%',explode=(0.1,0,0.3,0.3,0)\n",
    "                                                                    ,shadow=True,wedgeprops = {'linewidth': 1,'edgecolor':'k'})"
   ]
  },
  {
   "cell_type": "markdown",
   "metadata": {},
   "source": [
    "### Type of transmission"
   ]
  },
  {
   "cell_type": "code",
   "execution_count": 128,
   "metadata": {},
   "outputs": [
    {
     "data": {
      "text/plain": [
       "array(['Manual', 'Automatic'], dtype=object)"
      ]
     },
     "execution_count": 128,
     "metadata": {},
     "output_type": "execute_result"
    }
   ],
   "source": [
    "df['transmission'].unique()"
   ]
  },
  {
   "cell_type": "code",
   "execution_count": 129,
   "metadata": {},
   "outputs": [
    {
     "data": {
      "text/plain": [
       "transmission\n",
       "Manual       10970\n",
       "Automatic     1498\n",
       "Name: transmission, dtype: int64"
      ]
     },
     "execution_count": 129,
     "metadata": {},
     "output_type": "execute_result"
    }
   ],
   "source": [
    "df.groupby('transmission').transmission.count().sort_values(ascending=False)"
   ]
  },
  {
   "cell_type": "markdown",
   "metadata": {},
   "source": [
    "#### Checking for the list of mannual cars available for sale"
   ]
  },
  {
   "cell_type": "code",
   "execution_count": 130,
   "metadata": {},
   "outputs": [
    {
     "data": {
      "text/html": [
       "<div>\n",
       "<style scoped>\n",
       "    .dataframe tbody tr th:only-of-type {\n",
       "        vertical-align: middle;\n",
       "    }\n",
       "\n",
       "    .dataframe tbody tr th {\n",
       "        vertical-align: top;\n",
       "    }\n",
       "\n",
       "    .dataframe thead th {\n",
       "        text-align: right;\n",
       "    }\n",
       "</style>\n",
       "<table border=\"1\" class=\"dataframe\">\n",
       "  <thead>\n",
       "    <tr style=\"text-align: right;\">\n",
       "      <th></th>\n",
       "      <th>name</th>\n",
       "      <th>year</th>\n",
       "      <th>selling_price</th>\n",
       "      <th>km_driven</th>\n",
       "      <th>seller_type</th>\n",
       "      <th>fuel</th>\n",
       "      <th>transmission</th>\n",
       "      <th>owner</th>\n",
       "    </tr>\n",
       "  </thead>\n",
       "  <tbody>\n",
       "    <tr>\n",
       "      <th>0</th>\n",
       "      <td>Maruti 800 AC</td>\n",
       "      <td>2007</td>\n",
       "      <td>60000</td>\n",
       "      <td>70000</td>\n",
       "      <td>Individual</td>\n",
       "      <td>Petrol</td>\n",
       "      <td>Manual</td>\n",
       "      <td>First Owner</td>\n",
       "    </tr>\n",
       "    <tr>\n",
       "      <th>1</th>\n",
       "      <td>Maruti Wagon R LXI Minor</td>\n",
       "      <td>2007</td>\n",
       "      <td>135000</td>\n",
       "      <td>50000</td>\n",
       "      <td>Individual</td>\n",
       "      <td>Petrol</td>\n",
       "      <td>Manual</td>\n",
       "      <td>First Owner</td>\n",
       "    </tr>\n",
       "    <tr>\n",
       "      <th>2</th>\n",
       "      <td>Hyundai Verna 1.6 SX</td>\n",
       "      <td>2012</td>\n",
       "      <td>600000</td>\n",
       "      <td>100000</td>\n",
       "      <td>Individual</td>\n",
       "      <td>Diesel</td>\n",
       "      <td>Manual</td>\n",
       "      <td>First Owner</td>\n",
       "    </tr>\n",
       "    <tr>\n",
       "      <th>3</th>\n",
       "      <td>Datsun RediGO T Option</td>\n",
       "      <td>2017</td>\n",
       "      <td>250000</td>\n",
       "      <td>46000</td>\n",
       "      <td>Individual</td>\n",
       "      <td>Petrol</td>\n",
       "      <td>Manual</td>\n",
       "      <td>First Owner</td>\n",
       "    </tr>\n",
       "    <tr>\n",
       "      <th>4</th>\n",
       "      <td>Honda Amaze VX i-DTEC</td>\n",
       "      <td>2014</td>\n",
       "      <td>450000</td>\n",
       "      <td>141000</td>\n",
       "      <td>Individual</td>\n",
       "      <td>Diesel</td>\n",
       "      <td>Manual</td>\n",
       "      <td>Second Owner</td>\n",
       "    </tr>\n",
       "    <tr>\n",
       "      <th>...</th>\n",
       "      <td>...</td>\n",
       "      <td>...</td>\n",
       "      <td>...</td>\n",
       "      <td>...</td>\n",
       "      <td>...</td>\n",
       "      <td>...</td>\n",
       "      <td>...</td>\n",
       "      <td>...</td>\n",
       "    </tr>\n",
       "    <tr>\n",
       "      <th>8123</th>\n",
       "      <td>Hyundai i20 Magna</td>\n",
       "      <td>2013</td>\n",
       "      <td>320000</td>\n",
       "      <td>110000</td>\n",
       "      <td>Individual</td>\n",
       "      <td>Petrol</td>\n",
       "      <td>Manual</td>\n",
       "      <td>First Owner</td>\n",
       "    </tr>\n",
       "    <tr>\n",
       "      <th>8124</th>\n",
       "      <td>Hyundai Verna CRDi SX</td>\n",
       "      <td>2007</td>\n",
       "      <td>135000</td>\n",
       "      <td>119000</td>\n",
       "      <td>Individual</td>\n",
       "      <td>Diesel</td>\n",
       "      <td>Manual</td>\n",
       "      <td>Fourth &amp; Above Owner</td>\n",
       "    </tr>\n",
       "    <tr>\n",
       "      <th>8125</th>\n",
       "      <td>Maruti Swift Dzire ZDi</td>\n",
       "      <td>2009</td>\n",
       "      <td>382000</td>\n",
       "      <td>120000</td>\n",
       "      <td>Individual</td>\n",
       "      <td>Diesel</td>\n",
       "      <td>Manual</td>\n",
       "      <td>First Owner</td>\n",
       "    </tr>\n",
       "    <tr>\n",
       "      <th>8126</th>\n",
       "      <td>Tata Indigo CR4</td>\n",
       "      <td>2013</td>\n",
       "      <td>290000</td>\n",
       "      <td>25000</td>\n",
       "      <td>Individual</td>\n",
       "      <td>Diesel</td>\n",
       "      <td>Manual</td>\n",
       "      <td>First Owner</td>\n",
       "    </tr>\n",
       "    <tr>\n",
       "      <th>8127</th>\n",
       "      <td>Tata Indigo CR4</td>\n",
       "      <td>2013</td>\n",
       "      <td>290000</td>\n",
       "      <td>25000</td>\n",
       "      <td>Individual</td>\n",
       "      <td>Diesel</td>\n",
       "      <td>Manual</td>\n",
       "      <td>First Owner</td>\n",
       "    </tr>\n",
       "  </tbody>\n",
       "</table>\n",
       "<p>10970 rows × 8 columns</p>\n",
       "</div>"
      ],
      "text/plain": [
       "                          name  year  selling_price  km_driven seller_type  \\\n",
       "0                Maruti 800 AC  2007          60000      70000  Individual   \n",
       "1     Maruti Wagon R LXI Minor  2007         135000      50000  Individual   \n",
       "2         Hyundai Verna 1.6 SX  2012         600000     100000  Individual   \n",
       "3       Datsun RediGO T Option  2017         250000      46000  Individual   \n",
       "4        Honda Amaze VX i-DTEC  2014         450000     141000  Individual   \n",
       "...                        ...   ...            ...        ...         ...   \n",
       "8123         Hyundai i20 Magna  2013         320000     110000  Individual   \n",
       "8124     Hyundai Verna CRDi SX  2007         135000     119000  Individual   \n",
       "8125    Maruti Swift Dzire ZDi  2009         382000     120000  Individual   \n",
       "8126           Tata Indigo CR4  2013         290000      25000  Individual   \n",
       "8127           Tata Indigo CR4  2013         290000      25000  Individual   \n",
       "\n",
       "        fuel transmission                 owner  \n",
       "0     Petrol       Manual           First Owner  \n",
       "1     Petrol       Manual           First Owner  \n",
       "2     Diesel       Manual           First Owner  \n",
       "3     Petrol       Manual           First Owner  \n",
       "4     Diesel       Manual          Second Owner  \n",
       "...      ...          ...                   ...  \n",
       "8123  Petrol       Manual           First Owner  \n",
       "8124  Diesel       Manual  Fourth & Above Owner  \n",
       "8125  Diesel       Manual           First Owner  \n",
       "8126  Diesel       Manual           First Owner  \n",
       "8127  Diesel       Manual           First Owner  \n",
       "\n",
       "[10970 rows x 8 columns]"
      ]
     },
     "execution_count": 130,
     "metadata": {},
     "output_type": "execute_result"
    }
   ],
   "source": [
    "manual_cars=df[df['transmission']=='Manual']\n",
    "manual_cars"
   ]
  },
  {
   "cell_type": "markdown",
   "metadata": {},
   "source": [
    "#### Most expensive car which is Mannual"
   ]
  },
  {
   "cell_type": "code",
   "execution_count": 131,
   "metadata": {},
   "outputs": [
    {
     "data": {
      "text/html": [
       "<div>\n",
       "<style scoped>\n",
       "    .dataframe tbody tr th:only-of-type {\n",
       "        vertical-align: middle;\n",
       "    }\n",
       "\n",
       "    .dataframe tbody tr th {\n",
       "        vertical-align: top;\n",
       "    }\n",
       "\n",
       "    .dataframe thead th {\n",
       "        text-align: right;\n",
       "    }\n",
       "</style>\n",
       "<table border=\"1\" class=\"dataframe\">\n",
       "  <thead>\n",
       "    <tr style=\"text-align: right;\">\n",
       "      <th></th>\n",
       "      <th>name</th>\n",
       "      <th>year</th>\n",
       "      <th>selling_price</th>\n",
       "      <th>km_driven</th>\n",
       "      <th>seller_type</th>\n",
       "      <th>fuel</th>\n",
       "      <th>transmission</th>\n",
       "      <th>owner</th>\n",
       "    </tr>\n",
       "  </thead>\n",
       "  <tbody>\n",
       "    <tr>\n",
       "      <th>1821</th>\n",
       "      <td>Toyota Fortuner 2.8 4WD MT BSIV</td>\n",
       "      <td>2018</td>\n",
       "      <td>3200000</td>\n",
       "      <td>50000</td>\n",
       "      <td>Individual</td>\n",
       "      <td>Diesel</td>\n",
       "      <td>Manual</td>\n",
       "      <td>First Owner</td>\n",
       "    </tr>\n",
       "    <tr>\n",
       "      <th>5647</th>\n",
       "      <td>Toyota Fortuner 2.8 4WD MT BSIV</td>\n",
       "      <td>2018</td>\n",
       "      <td>3200000</td>\n",
       "      <td>50000</td>\n",
       "      <td>Individual</td>\n",
       "      <td>Diesel</td>\n",
       "      <td>Manual</td>\n",
       "      <td>First Owner</td>\n",
       "    </tr>\n",
       "  </tbody>\n",
       "</table>\n",
       "</div>"
      ],
      "text/plain": [
       "                                 name  year  selling_price  km_driven  \\\n",
       "1821  Toyota Fortuner 2.8 4WD MT BSIV  2018        3200000      50000   \n",
       "5647  Toyota Fortuner 2.8 4WD MT BSIV  2018        3200000      50000   \n",
       "\n",
       "     seller_type    fuel transmission        owner  \n",
       "1821  Individual  Diesel       Manual  First Owner  \n",
       "5647  Individual  Diesel       Manual  First Owner  "
      ]
     },
     "execution_count": 131,
     "metadata": {},
     "output_type": "execute_result"
    }
   ],
   "source": [
    "manual_cars[manual_cars['selling_price']==manual_cars['selling_price'].max()]"
   ]
  },
  {
   "cell_type": "markdown",
   "metadata": {},
   "source": [
    "#### Least expensive car in Manual"
   ]
  },
  {
   "cell_type": "code",
   "execution_count": 132,
   "metadata": {},
   "outputs": [
    {
     "data": {
      "text/html": [
       "<div>\n",
       "<style scoped>\n",
       "    .dataframe tbody tr th:only-of-type {\n",
       "        vertical-align: middle;\n",
       "    }\n",
       "\n",
       "    .dataframe tbody tr th {\n",
       "        vertical-align: top;\n",
       "    }\n",
       "\n",
       "    .dataframe thead th {\n",
       "        text-align: right;\n",
       "    }\n",
       "</style>\n",
       "<table border=\"1\" class=\"dataframe\">\n",
       "  <thead>\n",
       "    <tr style=\"text-align: right;\">\n",
       "      <th></th>\n",
       "      <th>name</th>\n",
       "      <th>year</th>\n",
       "      <th>selling_price</th>\n",
       "      <th>km_driven</th>\n",
       "      <th>seller_type</th>\n",
       "      <th>fuel</th>\n",
       "      <th>transmission</th>\n",
       "      <th>owner</th>\n",
       "    </tr>\n",
       "  </thead>\n",
       "  <tbody>\n",
       "    <tr>\n",
       "      <th>2662</th>\n",
       "      <td>Ford Ikon 1.6 ZXI NXt</td>\n",
       "      <td>2005</td>\n",
       "      <td>20000</td>\n",
       "      <td>25000</td>\n",
       "      <td>Individual</td>\n",
       "      <td>Petrol</td>\n",
       "      <td>Manual</td>\n",
       "      <td>Second Owner</td>\n",
       "    </tr>\n",
       "  </tbody>\n",
       "</table>\n",
       "</div>"
      ],
      "text/plain": [
       "                       name  year  selling_price  km_driven seller_type  \\\n",
       "2662  Ford Ikon 1.6 ZXI NXt  2005          20000      25000  Individual   \n",
       "\n",
       "        fuel transmission         owner  \n",
       "2662  Petrol       Manual  Second Owner  "
      ]
     },
     "execution_count": 132,
     "metadata": {},
     "output_type": "execute_result"
    }
   ],
   "source": [
    "manual_cars[manual_cars['selling_price']==manual_cars['selling_price'].min()]"
   ]
  },
  {
   "cell_type": "markdown",
   "metadata": {},
   "source": [
    "### Type of seller"
   ]
  },
  {
   "cell_type": "code",
   "execution_count": 133,
   "metadata": {},
   "outputs": [
    {
     "data": {
      "text/plain": [
       "array(['Individual', 'Dealer', 'Trustmark Dealer'], dtype=object)"
      ]
     },
     "execution_count": 133,
     "metadata": {},
     "output_type": "execute_result"
    }
   ],
   "source": [
    "df['seller_type'].unique()"
   ]
  },
  {
   "cell_type": "code",
   "execution_count": 134,
   "metadata": {},
   "outputs": [
    {
     "data": {
      "text/plain": [
       "seller_type\n",
       "Individual          10010\n",
       "Dealer               2120\n",
       "Trustmark Dealer      338\n",
       "Name: seller_type, dtype: int64"
      ]
     },
     "execution_count": 134,
     "metadata": {},
     "output_type": "execute_result"
    }
   ],
   "source": [
    "seller_type_count=df.groupby('seller_type')['seller_type'].count().sort_values(ascending=False)\n",
    "seller_type_count"
   ]
  },
  {
   "cell_type": "markdown",
   "metadata": {},
   "source": [
    "#### Cars being sold by the Individual"
   ]
  },
  {
   "cell_type": "code",
   "execution_count": 135,
   "metadata": {},
   "outputs": [
    {
     "data": {
      "text/html": [
       "<div>\n",
       "<style scoped>\n",
       "    .dataframe tbody tr th:only-of-type {\n",
       "        vertical-align: middle;\n",
       "    }\n",
       "\n",
       "    .dataframe tbody tr th {\n",
       "        vertical-align: top;\n",
       "    }\n",
       "\n",
       "    .dataframe thead th {\n",
       "        text-align: right;\n",
       "    }\n",
       "</style>\n",
       "<table border=\"1\" class=\"dataframe\">\n",
       "  <thead>\n",
       "    <tr style=\"text-align: right;\">\n",
       "      <th></th>\n",
       "      <th>name</th>\n",
       "      <th>year</th>\n",
       "      <th>selling_price</th>\n",
       "      <th>km_driven</th>\n",
       "      <th>seller_type</th>\n",
       "      <th>fuel</th>\n",
       "      <th>transmission</th>\n",
       "      <th>owner</th>\n",
       "    </tr>\n",
       "  </thead>\n",
       "  <tbody>\n",
       "    <tr>\n",
       "      <th>0</th>\n",
       "      <td>Maruti 800 AC</td>\n",
       "      <td>2007</td>\n",
       "      <td>60000</td>\n",
       "      <td>70000</td>\n",
       "      <td>Individual</td>\n",
       "      <td>Petrol</td>\n",
       "      <td>Manual</td>\n",
       "      <td>First Owner</td>\n",
       "    </tr>\n",
       "    <tr>\n",
       "      <th>1</th>\n",
       "      <td>Maruti Wagon R LXI Minor</td>\n",
       "      <td>2007</td>\n",
       "      <td>135000</td>\n",
       "      <td>50000</td>\n",
       "      <td>Individual</td>\n",
       "      <td>Petrol</td>\n",
       "      <td>Manual</td>\n",
       "      <td>First Owner</td>\n",
       "    </tr>\n",
       "    <tr>\n",
       "      <th>2</th>\n",
       "      <td>Hyundai Verna 1.6 SX</td>\n",
       "      <td>2012</td>\n",
       "      <td>600000</td>\n",
       "      <td>100000</td>\n",
       "      <td>Individual</td>\n",
       "      <td>Diesel</td>\n",
       "      <td>Manual</td>\n",
       "      <td>First Owner</td>\n",
       "    </tr>\n",
       "    <tr>\n",
       "      <th>3</th>\n",
       "      <td>Datsun RediGO T Option</td>\n",
       "      <td>2017</td>\n",
       "      <td>250000</td>\n",
       "      <td>46000</td>\n",
       "      <td>Individual</td>\n",
       "      <td>Petrol</td>\n",
       "      <td>Manual</td>\n",
       "      <td>First Owner</td>\n",
       "    </tr>\n",
       "    <tr>\n",
       "      <th>4</th>\n",
       "      <td>Honda Amaze VX i-DTEC</td>\n",
       "      <td>2014</td>\n",
       "      <td>450000</td>\n",
       "      <td>141000</td>\n",
       "      <td>Individual</td>\n",
       "      <td>Diesel</td>\n",
       "      <td>Manual</td>\n",
       "      <td>Second Owner</td>\n",
       "    </tr>\n",
       "    <tr>\n",
       "      <th>...</th>\n",
       "      <td>...</td>\n",
       "      <td>...</td>\n",
       "      <td>...</td>\n",
       "      <td>...</td>\n",
       "      <td>...</td>\n",
       "      <td>...</td>\n",
       "      <td>...</td>\n",
       "      <td>...</td>\n",
       "    </tr>\n",
       "    <tr>\n",
       "      <th>8123</th>\n",
       "      <td>Hyundai i20 Magna</td>\n",
       "      <td>2013</td>\n",
       "      <td>320000</td>\n",
       "      <td>110000</td>\n",
       "      <td>Individual</td>\n",
       "      <td>Petrol</td>\n",
       "      <td>Manual</td>\n",
       "      <td>First Owner</td>\n",
       "    </tr>\n",
       "    <tr>\n",
       "      <th>8124</th>\n",
       "      <td>Hyundai Verna CRDi SX</td>\n",
       "      <td>2007</td>\n",
       "      <td>135000</td>\n",
       "      <td>119000</td>\n",
       "      <td>Individual</td>\n",
       "      <td>Diesel</td>\n",
       "      <td>Manual</td>\n",
       "      <td>Fourth &amp; Above Owner</td>\n",
       "    </tr>\n",
       "    <tr>\n",
       "      <th>8125</th>\n",
       "      <td>Maruti Swift Dzire ZDi</td>\n",
       "      <td>2009</td>\n",
       "      <td>382000</td>\n",
       "      <td>120000</td>\n",
       "      <td>Individual</td>\n",
       "      <td>Diesel</td>\n",
       "      <td>Manual</td>\n",
       "      <td>First Owner</td>\n",
       "    </tr>\n",
       "    <tr>\n",
       "      <th>8126</th>\n",
       "      <td>Tata Indigo CR4</td>\n",
       "      <td>2013</td>\n",
       "      <td>290000</td>\n",
       "      <td>25000</td>\n",
       "      <td>Individual</td>\n",
       "      <td>Diesel</td>\n",
       "      <td>Manual</td>\n",
       "      <td>First Owner</td>\n",
       "    </tr>\n",
       "    <tr>\n",
       "      <th>8127</th>\n",
       "      <td>Tata Indigo CR4</td>\n",
       "      <td>2013</td>\n",
       "      <td>290000</td>\n",
       "      <td>25000</td>\n",
       "      <td>Individual</td>\n",
       "      <td>Diesel</td>\n",
       "      <td>Manual</td>\n",
       "      <td>First Owner</td>\n",
       "    </tr>\n",
       "  </tbody>\n",
       "</table>\n",
       "<p>10010 rows × 8 columns</p>\n",
       "</div>"
      ],
      "text/plain": [
       "                          name  year  selling_price  km_driven seller_type  \\\n",
       "0                Maruti 800 AC  2007          60000      70000  Individual   \n",
       "1     Maruti Wagon R LXI Minor  2007         135000      50000  Individual   \n",
       "2         Hyundai Verna 1.6 SX  2012         600000     100000  Individual   \n",
       "3       Datsun RediGO T Option  2017         250000      46000  Individual   \n",
       "4        Honda Amaze VX i-DTEC  2014         450000     141000  Individual   \n",
       "...                        ...   ...            ...        ...         ...   \n",
       "8123         Hyundai i20 Magna  2013         320000     110000  Individual   \n",
       "8124     Hyundai Verna CRDi SX  2007         135000     119000  Individual   \n",
       "8125    Maruti Swift Dzire ZDi  2009         382000     120000  Individual   \n",
       "8126           Tata Indigo CR4  2013         290000      25000  Individual   \n",
       "8127           Tata Indigo CR4  2013         290000      25000  Individual   \n",
       "\n",
       "        fuel transmission                 owner  \n",
       "0     Petrol       Manual           First Owner  \n",
       "1     Petrol       Manual           First Owner  \n",
       "2     Diesel       Manual           First Owner  \n",
       "3     Petrol       Manual           First Owner  \n",
       "4     Diesel       Manual          Second Owner  \n",
       "...      ...          ...                   ...  \n",
       "8123  Petrol       Manual           First Owner  \n",
       "8124  Diesel       Manual  Fourth & Above Owner  \n",
       "8125  Diesel       Manual           First Owner  \n",
       "8126  Diesel       Manual           First Owner  \n",
       "8127  Diesel       Manual           First Owner  \n",
       "\n",
       "[10010 rows x 8 columns]"
      ]
     },
     "execution_count": 135,
     "metadata": {},
     "output_type": "execute_result"
    }
   ],
   "source": [
    "individual_seller=df[df['seller_type']=='Individual']\n",
    "individual_seller"
   ]
  },
  {
   "cell_type": "markdown",
   "metadata": {},
   "source": [
    "#### Cars being sold by Dealer"
   ]
  },
  {
   "cell_type": "code",
   "execution_count": 136,
   "metadata": {},
   "outputs": [
    {
     "data": {
      "text/html": [
       "<div>\n",
       "<style scoped>\n",
       "    .dataframe tbody tr th:only-of-type {\n",
       "        vertical-align: middle;\n",
       "    }\n",
       "\n",
       "    .dataframe tbody tr th {\n",
       "        vertical-align: top;\n",
       "    }\n",
       "\n",
       "    .dataframe thead th {\n",
       "        text-align: right;\n",
       "    }\n",
       "</style>\n",
       "<table border=\"1\" class=\"dataframe\">\n",
       "  <thead>\n",
       "    <tr style=\"text-align: right;\">\n",
       "      <th></th>\n",
       "      <th>name</th>\n",
       "      <th>year</th>\n",
       "      <th>selling_price</th>\n",
       "      <th>km_driven</th>\n",
       "      <th>seller_type</th>\n",
       "      <th>fuel</th>\n",
       "      <th>transmission</th>\n",
       "      <th>owner</th>\n",
       "    </tr>\n",
       "  </thead>\n",
       "  <tbody>\n",
       "    <tr>\n",
       "      <th>12</th>\n",
       "      <td>Toyota Corolla Altis 1.8 VL CVT</td>\n",
       "      <td>2018</td>\n",
       "      <td>1650000</td>\n",
       "      <td>25000</td>\n",
       "      <td>Dealer</td>\n",
       "      <td>Petrol</td>\n",
       "      <td>Automatic</td>\n",
       "      <td>First Owner</td>\n",
       "    </tr>\n",
       "    <tr>\n",
       "      <th>25</th>\n",
       "      <td>Toyota Corolla Altis 1.8 VL CVT</td>\n",
       "      <td>2018</td>\n",
       "      <td>1650000</td>\n",
       "      <td>25000</td>\n",
       "      <td>Dealer</td>\n",
       "      <td>Petrol</td>\n",
       "      <td>Automatic</td>\n",
       "      <td>First Owner</td>\n",
       "    </tr>\n",
       "    <tr>\n",
       "      <th>26</th>\n",
       "      <td>Maruti Ciaz VXi Plus</td>\n",
       "      <td>2015</td>\n",
       "      <td>585000</td>\n",
       "      <td>24000</td>\n",
       "      <td>Dealer</td>\n",
       "      <td>Petrol</td>\n",
       "      <td>Manual</td>\n",
       "      <td>First Owner</td>\n",
       "    </tr>\n",
       "    <tr>\n",
       "      <th>27</th>\n",
       "      <td>Hyundai Venue SX Opt Diesel</td>\n",
       "      <td>2019</td>\n",
       "      <td>1195000</td>\n",
       "      <td>5000</td>\n",
       "      <td>Dealer</td>\n",
       "      <td>Diesel</td>\n",
       "      <td>Manual</td>\n",
       "      <td>First Owner</td>\n",
       "    </tr>\n",
       "    <tr>\n",
       "      <th>29</th>\n",
       "      <td>Jaguar XF 2.2 Litre Luxury</td>\n",
       "      <td>2014</td>\n",
       "      <td>1964999</td>\n",
       "      <td>28000</td>\n",
       "      <td>Dealer</td>\n",
       "      <td>Diesel</td>\n",
       "      <td>Automatic</td>\n",
       "      <td>First Owner</td>\n",
       "    </tr>\n",
       "    <tr>\n",
       "      <th>...</th>\n",
       "      <td>...</td>\n",
       "      <td>...</td>\n",
       "      <td>...</td>\n",
       "      <td>...</td>\n",
       "      <td>...</td>\n",
       "      <td>...</td>\n",
       "      <td>...</td>\n",
       "      <td>...</td>\n",
       "    </tr>\n",
       "    <tr>\n",
       "      <th>8060</th>\n",
       "      <td>Honda City i VTEC SV</td>\n",
       "      <td>2015</td>\n",
       "      <td>575000</td>\n",
       "      <td>9599</td>\n",
       "      <td>Dealer</td>\n",
       "      <td>Petrol</td>\n",
       "      <td>Manual</td>\n",
       "      <td>First Owner</td>\n",
       "    </tr>\n",
       "    <tr>\n",
       "      <th>8061</th>\n",
       "      <td>Hyundai i20 Asta (o)</td>\n",
       "      <td>2017</td>\n",
       "      <td>600000</td>\n",
       "      <td>35000</td>\n",
       "      <td>Dealer</td>\n",
       "      <td>Petrol</td>\n",
       "      <td>Manual</td>\n",
       "      <td>First Owner</td>\n",
       "    </tr>\n",
       "    <tr>\n",
       "      <th>8062</th>\n",
       "      <td>Honda City i VTEC VX Option</td>\n",
       "      <td>2016</td>\n",
       "      <td>750000</td>\n",
       "      <td>16151</td>\n",
       "      <td>Dealer</td>\n",
       "      <td>Petrol</td>\n",
       "      <td>Manual</td>\n",
       "      <td>First Owner</td>\n",
       "    </tr>\n",
       "    <tr>\n",
       "      <th>8063</th>\n",
       "      <td>Hyundai Creta 1.6 SX Automatic</td>\n",
       "      <td>2016</td>\n",
       "      <td>890000</td>\n",
       "      <td>40000</td>\n",
       "      <td>Dealer</td>\n",
       "      <td>Petrol</td>\n",
       "      <td>Automatic</td>\n",
       "      <td>First Owner</td>\n",
       "    </tr>\n",
       "    <tr>\n",
       "      <th>8064</th>\n",
       "      <td>Honda City i VTEC V</td>\n",
       "      <td>2015</td>\n",
       "      <td>600000</td>\n",
       "      <td>28161</td>\n",
       "      <td>Dealer</td>\n",
       "      <td>Petrol</td>\n",
       "      <td>Manual</td>\n",
       "      <td>First Owner</td>\n",
       "    </tr>\n",
       "  </tbody>\n",
       "</table>\n",
       "<p>2120 rows × 8 columns</p>\n",
       "</div>"
      ],
      "text/plain": [
       "                                 name  year  selling_price  km_driven  \\\n",
       "12    Toyota Corolla Altis 1.8 VL CVT  2018        1650000      25000   \n",
       "25    Toyota Corolla Altis 1.8 VL CVT  2018        1650000      25000   \n",
       "26               Maruti Ciaz VXi Plus  2015         585000      24000   \n",
       "27        Hyundai Venue SX Opt Diesel  2019        1195000       5000   \n",
       "29         Jaguar XF 2.2 Litre Luxury  2014        1964999      28000   \n",
       "...                               ...   ...            ...        ...   \n",
       "8060             Honda City i VTEC SV  2015         575000       9599   \n",
       "8061             Hyundai i20 Asta (o)  2017         600000      35000   \n",
       "8062      Honda City i VTEC VX Option  2016         750000      16151   \n",
       "8063   Hyundai Creta 1.6 SX Automatic  2016         890000      40000   \n",
       "8064              Honda City i VTEC V  2015         600000      28161   \n",
       "\n",
       "     seller_type    fuel transmission        owner  \n",
       "12        Dealer  Petrol    Automatic  First Owner  \n",
       "25        Dealer  Petrol    Automatic  First Owner  \n",
       "26        Dealer  Petrol       Manual  First Owner  \n",
       "27        Dealer  Diesel       Manual  First Owner  \n",
       "29        Dealer  Diesel    Automatic  First Owner  \n",
       "...          ...     ...          ...          ...  \n",
       "8060      Dealer  Petrol       Manual  First Owner  \n",
       "8061      Dealer  Petrol       Manual  First Owner  \n",
       "8062      Dealer  Petrol       Manual  First Owner  \n",
       "8063      Dealer  Petrol    Automatic  First Owner  \n",
       "8064      Dealer  Petrol       Manual  First Owner  \n",
       "\n",
       "[2120 rows x 8 columns]"
      ]
     },
     "execution_count": 136,
     "metadata": {},
     "output_type": "execute_result"
    }
   ],
   "source": [
    "dealer_seller=df[df['seller_type']=='Dealer']\n",
    "dealer_seller"
   ]
  },
  {
   "cell_type": "markdown",
   "metadata": {},
   "source": [
    "#### Cars being sold by Trustmark dealer"
   ]
  },
  {
   "cell_type": "code",
   "execution_count": 137,
   "metadata": {},
   "outputs": [
    {
     "data": {
      "text/html": [
       "<div>\n",
       "<style scoped>\n",
       "    .dataframe tbody tr th:only-of-type {\n",
       "        vertical-align: middle;\n",
       "    }\n",
       "\n",
       "    .dataframe tbody tr th {\n",
       "        vertical-align: top;\n",
       "    }\n",
       "\n",
       "    .dataframe thead th {\n",
       "        text-align: right;\n",
       "    }\n",
       "</style>\n",
       "<table border=\"1\" class=\"dataframe\">\n",
       "  <thead>\n",
       "    <tr style=\"text-align: right;\">\n",
       "      <th></th>\n",
       "      <th>name</th>\n",
       "      <th>year</th>\n",
       "      <th>selling_price</th>\n",
       "      <th>km_driven</th>\n",
       "      <th>seller_type</th>\n",
       "      <th>fuel</th>\n",
       "      <th>transmission</th>\n",
       "      <th>owner</th>\n",
       "    </tr>\n",
       "  </thead>\n",
       "  <tbody>\n",
       "    <tr>\n",
       "      <th>540</th>\n",
       "      <td>Maruti Swift ZXI BSIV</td>\n",
       "      <td>2016</td>\n",
       "      <td>670000</td>\n",
       "      <td>7104</td>\n",
       "      <td>Trustmark Dealer</td>\n",
       "      <td>Petrol</td>\n",
       "      <td>Manual</td>\n",
       "      <td>First Owner</td>\n",
       "    </tr>\n",
       "    <tr>\n",
       "      <th>541</th>\n",
       "      <td>Maruti S-Cross Zeta DDiS 200 SH</td>\n",
       "      <td>2015</td>\n",
       "      <td>750000</td>\n",
       "      <td>45974</td>\n",
       "      <td>Trustmark Dealer</td>\n",
       "      <td>Diesel</td>\n",
       "      <td>Manual</td>\n",
       "      <td>First Owner</td>\n",
       "    </tr>\n",
       "    <tr>\n",
       "      <th>542</th>\n",
       "      <td>Hyundai Verna 1.6 VTVT SX</td>\n",
       "      <td>2015</td>\n",
       "      <td>760000</td>\n",
       "      <td>55340</td>\n",
       "      <td>Trustmark Dealer</td>\n",
       "      <td>Petrol</td>\n",
       "      <td>Manual</td>\n",
       "      <td>First Owner</td>\n",
       "    </tr>\n",
       "    <tr>\n",
       "      <th>544</th>\n",
       "      <td>Renault Pulse RxL</td>\n",
       "      <td>2015</td>\n",
       "      <td>390000</td>\n",
       "      <td>61585</td>\n",
       "      <td>Trustmark Dealer</td>\n",
       "      <td>Diesel</td>\n",
       "      <td>Manual</td>\n",
       "      <td>First Owner</td>\n",
       "    </tr>\n",
       "    <tr>\n",
       "      <th>545</th>\n",
       "      <td>Maruti Celerio VXI AMT BSIV</td>\n",
       "      <td>2016</td>\n",
       "      <td>450000</td>\n",
       "      <td>39415</td>\n",
       "      <td>Trustmark Dealer</td>\n",
       "      <td>Petrol</td>\n",
       "      <td>Automatic</td>\n",
       "      <td>Second Owner</td>\n",
       "    </tr>\n",
       "    <tr>\n",
       "      <th>...</th>\n",
       "      <td>...</td>\n",
       "      <td>...</td>\n",
       "      <td>...</td>\n",
       "      <td>...</td>\n",
       "      <td>...</td>\n",
       "      <td>...</td>\n",
       "      <td>...</td>\n",
       "      <td>...</td>\n",
       "    </tr>\n",
       "    <tr>\n",
       "      <th>7866</th>\n",
       "      <td>Honda Jazz VX</td>\n",
       "      <td>2016</td>\n",
       "      <td>550000</td>\n",
       "      <td>56494</td>\n",
       "      <td>Trustmark Dealer</td>\n",
       "      <td>Petrol</td>\n",
       "      <td>Manual</td>\n",
       "      <td>First Owner</td>\n",
       "    </tr>\n",
       "    <tr>\n",
       "      <th>7867</th>\n",
       "      <td>Toyota Innova 2.5 VX (Diesel) 7 Seater</td>\n",
       "      <td>2013</td>\n",
       "      <td>750000</td>\n",
       "      <td>79328</td>\n",
       "      <td>Trustmark Dealer</td>\n",
       "      <td>Diesel</td>\n",
       "      <td>Manual</td>\n",
       "      <td>Second Owner</td>\n",
       "    </tr>\n",
       "    <tr>\n",
       "      <th>7868</th>\n",
       "      <td>Maruti Swift AMT VVT VXI</td>\n",
       "      <td>2019</td>\n",
       "      <td>650000</td>\n",
       "      <td>5621</td>\n",
       "      <td>Trustmark Dealer</td>\n",
       "      <td>Petrol</td>\n",
       "      <td>Automatic</td>\n",
       "      <td>First Owner</td>\n",
       "    </tr>\n",
       "    <tr>\n",
       "      <th>7869</th>\n",
       "      <td>Toyota Etios VX</td>\n",
       "      <td>2017</td>\n",
       "      <td>625000</td>\n",
       "      <td>25538</td>\n",
       "      <td>Trustmark Dealer</td>\n",
       "      <td>Petrol</td>\n",
       "      <td>Manual</td>\n",
       "      <td>First Owner</td>\n",
       "    </tr>\n",
       "    <tr>\n",
       "      <th>7874</th>\n",
       "      <td>Honda Amaze V CVT Petrol BSIV</td>\n",
       "      <td>2019</td>\n",
       "      <td>779000</td>\n",
       "      <td>7032</td>\n",
       "      <td>Trustmark Dealer</td>\n",
       "      <td>Petrol</td>\n",
       "      <td>Automatic</td>\n",
       "      <td>First Owner</td>\n",
       "    </tr>\n",
       "  </tbody>\n",
       "</table>\n",
       "<p>338 rows × 8 columns</p>\n",
       "</div>"
      ],
      "text/plain": [
       "                                        name  year  selling_price  km_driven  \\\n",
       "540                    Maruti Swift ZXI BSIV  2016         670000       7104   \n",
       "541          Maruti S-Cross Zeta DDiS 200 SH  2015         750000      45974   \n",
       "542                Hyundai Verna 1.6 VTVT SX  2015         760000      55340   \n",
       "544                        Renault Pulse RxL  2015         390000      61585   \n",
       "545              Maruti Celerio VXI AMT BSIV  2016         450000      39415   \n",
       "...                                      ...   ...            ...        ...   \n",
       "7866                           Honda Jazz VX  2016         550000      56494   \n",
       "7867  Toyota Innova 2.5 VX (Diesel) 7 Seater  2013         750000      79328   \n",
       "7868                Maruti Swift AMT VVT VXI  2019         650000       5621   \n",
       "7869                         Toyota Etios VX  2017         625000      25538   \n",
       "7874           Honda Amaze V CVT Petrol BSIV  2019         779000       7032   \n",
       "\n",
       "           seller_type    fuel transmission         owner  \n",
       "540   Trustmark Dealer  Petrol       Manual   First Owner  \n",
       "541   Trustmark Dealer  Diesel       Manual   First Owner  \n",
       "542   Trustmark Dealer  Petrol       Manual   First Owner  \n",
       "544   Trustmark Dealer  Diesel       Manual   First Owner  \n",
       "545   Trustmark Dealer  Petrol    Automatic  Second Owner  \n",
       "...                ...     ...          ...           ...  \n",
       "7866  Trustmark Dealer  Petrol       Manual   First Owner  \n",
       "7867  Trustmark Dealer  Diesel       Manual  Second Owner  \n",
       "7868  Trustmark Dealer  Petrol    Automatic   First Owner  \n",
       "7869  Trustmark Dealer  Petrol       Manual   First Owner  \n",
       "7874  Trustmark Dealer  Petrol    Automatic   First Owner  \n",
       "\n",
       "[338 rows x 8 columns]"
      ]
     },
     "execution_count": 137,
     "metadata": {},
     "output_type": "execute_result"
    }
   ],
   "source": [
    "trustmark_dealer=df[df['seller_type']=='Trustmark Dealer']\n",
    "trustmark_dealer"
   ]
  },
  {
   "cell_type": "markdown",
   "metadata": {},
   "source": [
    "##### Visualizing data on the amount of cars being sold as per the seller type"
   ]
  },
  {
   "cell_type": "code",
   "execution_count": 138,
   "metadata": {},
   "outputs": [
    {
     "data": {
      "image/png": "[encoded data removed]",
      "text/plain": [
       "<Figure size 432x288 with 1 Axes>"
      ]
     },
     "metadata": {},
     "output_type": "display_data"
    }
   ],
   "source": [
    "color_list=['red','green','grey']\n",
    "seller_type_count.plot(kind='pie',autopct=('%.2f%%'),explode=(0,0.2,0.4),\n",
    "                       colors=color_list,shadow=True,wedgeprops = {'linewidth': 1,'edgecolor':'k'})\n",
    "\n",
    "plt.show()"
   ]
  },
  {
   "cell_type": "markdown",
   "metadata": {},
   "source": [
    "### Year wise count about the number of cars available"
   ]
  },
  {
   "cell_type": "code",
   "execution_count": 139,
   "metadata": {},
   "outputs": [
    {
     "data": {
      "text/plain": [
       "year\n",
       "2017    1484\n",
       "2016    1216\n",
       "2015    1197\n",
       "2018    1173\n",
       "2012    1066\n",
       "2013    1056\n",
       "2014     988\n",
       "2011     863\n",
       "2019     778\n",
       "2010     628\n",
       "2009     439\n",
       "2008     359\n",
       "2007     317\n",
       "2006     234\n",
       "2005     182\n",
       "2020     122\n",
       "2004     104\n",
       "2003      72\n",
       "2002      48\n",
       "2000      34\n",
       "2001      30\n",
       "1999      28\n",
       "1998      22\n",
       "1997      14\n",
       "1996       5\n",
       "1995       3\n",
       "1994       3\n",
       "1992       1\n",
       "1991       1\n",
       "1983       1\n",
       "Name: year, dtype: int64"
      ]
     },
     "execution_count": 139,
     "metadata": {},
     "output_type": "execute_result"
    }
   ],
   "source": [
    "df.groupby('year').year.count().sort_values(ascending=False)"
   ]
  },
  {
   "cell_type": "code",
   "execution_count": 140,
   "metadata": {},
   "outputs": [
    {
     "data": {
      "text/html": [
       "<div>\n",
       "<style scoped>\n",
       "    .dataframe tbody tr th:only-of-type {\n",
       "        vertical-align: middle;\n",
       "    }\n",
       "\n",
       "    .dataframe tbody tr th {\n",
       "        vertical-align: top;\n",
       "    }\n",
       "\n",
       "    .dataframe thead th {\n",
       "        text-align: right;\n",
       "    }\n",
       "</style>\n",
       "<table border=\"1\" class=\"dataframe\">\n",
       "  <thead>\n",
       "    <tr style=\"text-align: right;\">\n",
       "      <th></th>\n",
       "      <th>name</th>\n",
       "      <th>year</th>\n",
       "      <th>selling_price</th>\n",
       "      <th>km_driven</th>\n",
       "      <th>seller_type</th>\n",
       "      <th>fuel</th>\n",
       "      <th>transmission</th>\n",
       "      <th>owner</th>\n",
       "    </tr>\n",
       "  </thead>\n",
       "  <tbody>\n",
       "    <tr>\n",
       "      <th>289</th>\n",
       "      <td>Mahindra XUV500 W11 Option AWD</td>\n",
       "      <td>2020</td>\n",
       "      <td>1400000</td>\n",
       "      <td>25000</td>\n",
       "      <td>Dealer</td>\n",
       "      <td>Diesel</td>\n",
       "      <td>Manual</td>\n",
       "      <td>First Owner</td>\n",
       "    </tr>\n",
       "    <tr>\n",
       "      <th>694</th>\n",
       "      <td>Hyundai Grand i10 Nios Magna CRDi</td>\n",
       "      <td>2020</td>\n",
       "      <td>700000</td>\n",
       "      <td>1400</td>\n",
       "      <td>Individual</td>\n",
       "      <td>Diesel</td>\n",
       "      <td>Manual</td>\n",
       "      <td>First Owner</td>\n",
       "    </tr>\n",
       "    <tr>\n",
       "      <th>963</th>\n",
       "      <td>Audi A5 Sportback</td>\n",
       "      <td>2020</td>\n",
       "      <td>4700000</td>\n",
       "      <td>1500</td>\n",
       "      <td>Individual</td>\n",
       "      <td>Diesel</td>\n",
       "      <td>Automatic</td>\n",
       "      <td>First Owner</td>\n",
       "    </tr>\n",
       "    <tr>\n",
       "      <th>1002</th>\n",
       "      <td>Hyundai Creta 1.4 EX Diesel</td>\n",
       "      <td>2020</td>\n",
       "      <td>1050000</td>\n",
       "      <td>10000</td>\n",
       "      <td>Individual</td>\n",
       "      <td>Diesel</td>\n",
       "      <td>Manual</td>\n",
       "      <td>First Owner</td>\n",
       "    </tr>\n",
       "    <tr>\n",
       "      <th>1516</th>\n",
       "      <td>Mahindra XUV500 W11 Option AWD</td>\n",
       "      <td>2020</td>\n",
       "      <td>1400000</td>\n",
       "      <td>25000</td>\n",
       "      <td>Dealer</td>\n",
       "      <td>Diesel</td>\n",
       "      <td>Manual</td>\n",
       "      <td>First Owner</td>\n",
       "    </tr>\n",
       "    <tr>\n",
       "      <th>1714</th>\n",
       "      <td>Ford Freestyle Titanium Diesel</td>\n",
       "      <td>2020</td>\n",
       "      <td>784000</td>\n",
       "      <td>101</td>\n",
       "      <td>Dealer</td>\n",
       "      <td>Diesel</td>\n",
       "      <td>Manual</td>\n",
       "      <td>Test Drive Car</td>\n",
       "    </tr>\n",
       "    <tr>\n",
       "      <th>1716</th>\n",
       "      <td>Ford Ecosport 1.5 Diesel Titanium</td>\n",
       "      <td>2020</td>\n",
       "      <td>1000000</td>\n",
       "      <td>101</td>\n",
       "      <td>Dealer</td>\n",
       "      <td>Diesel</td>\n",
       "      <td>Manual</td>\n",
       "      <td>Test Drive Car</td>\n",
       "    </tr>\n",
       "    <tr>\n",
       "      <th>1778</th>\n",
       "      <td>Ford EcoSport 1.5 TDCi Titanium Plus BSIV</td>\n",
       "      <td>2020</td>\n",
       "      <td>1334000</td>\n",
       "      <td>1010</td>\n",
       "      <td>Dealer</td>\n",
       "      <td>Diesel</td>\n",
       "      <td>Manual</td>\n",
       "      <td>Test Drive Car</td>\n",
       "    </tr>\n",
       "    <tr>\n",
       "      <th>1780</th>\n",
       "      <td>Ford Ecosport Thunder Edition Diesel</td>\n",
       "      <td>2020</td>\n",
       "      <td>1331000</td>\n",
       "      <td>1010</td>\n",
       "      <td>Dealer</td>\n",
       "      <td>Diesel</td>\n",
       "      <td>Manual</td>\n",
       "      <td>Test Drive Car</td>\n",
       "    </tr>\n",
       "    <tr>\n",
       "      <th>1963</th>\n",
       "      <td>Hyundai Venue SX Opt Diesel</td>\n",
       "      <td>2020</td>\n",
       "      <td>1000000</td>\n",
       "      <td>5000</td>\n",
       "      <td>Individual</td>\n",
       "      <td>Diesel</td>\n",
       "      <td>Manual</td>\n",
       "      <td>First Owner</td>\n",
       "    </tr>\n",
       "    <tr>\n",
       "      <th>2137</th>\n",
       "      <td>Maruti Ertiga 1.5 VDI</td>\n",
       "      <td>2020</td>\n",
       "      <td>550000</td>\n",
       "      <td>90000</td>\n",
       "      <td>Individual</td>\n",
       "      <td>Diesel</td>\n",
       "      <td>Manual</td>\n",
       "      <td>First Owner</td>\n",
       "    </tr>\n",
       "    <tr>\n",
       "      <th>2211</th>\n",
       "      <td>Hyundai Creta 1.4 EX Diesel</td>\n",
       "      <td>2020</td>\n",
       "      <td>1050000</td>\n",
       "      <td>10000</td>\n",
       "      <td>Individual</td>\n",
       "      <td>Diesel</td>\n",
       "      <td>Manual</td>\n",
       "      <td>First Owner</td>\n",
       "    </tr>\n",
       "    <tr>\n",
       "      <th>2699</th>\n",
       "      <td>Mahindra Scorpio S5 BSIV</td>\n",
       "      <td>2020</td>\n",
       "      <td>1200000</td>\n",
       "      <td>11000</td>\n",
       "      <td>Individual</td>\n",
       "      <td>Diesel</td>\n",
       "      <td>Manual</td>\n",
       "      <td>First Owner</td>\n",
       "    </tr>\n",
       "    <tr>\n",
       "      <th>3933</th>\n",
       "      <td>Ford Figo Aspire 1.5 TDCi Titanium</td>\n",
       "      <td>2020</td>\n",
       "      <td>530000</td>\n",
       "      <td>45000</td>\n",
       "      <td>Dealer</td>\n",
       "      <td>Diesel</td>\n",
       "      <td>Manual</td>\n",
       "      <td>First Owner</td>\n",
       "    </tr>\n",
       "    <tr>\n",
       "      <th>4105</th>\n",
       "      <td>Tata Harrier XE</td>\n",
       "      <td>2020</td>\n",
       "      <td>426000</td>\n",
       "      <td>1000</td>\n",
       "      <td>Individual</td>\n",
       "      <td>Diesel</td>\n",
       "      <td>Manual</td>\n",
       "      <td>First Owner</td>\n",
       "    </tr>\n",
       "    <tr>\n",
       "      <th>487</th>\n",
       "      <td>Mahindra KUV 100 D75 K6 Plus</td>\n",
       "      <td>2020</td>\n",
       "      <td>480000</td>\n",
       "      <td>44665</td>\n",
       "      <td>Individual</td>\n",
       "      <td>Diesel</td>\n",
       "      <td>Manual</td>\n",
       "      <td>First Owner</td>\n",
       "    </tr>\n",
       "    <tr>\n",
       "      <th>1067</th>\n",
       "      <td>Kia Seltos HTX Plus AT D</td>\n",
       "      <td>2020</td>\n",
       "      <td>1900000</td>\n",
       "      <td>5000</td>\n",
       "      <td>Dealer</td>\n",
       "      <td>Diesel</td>\n",
       "      <td>Automatic</td>\n",
       "      <td>First Owner</td>\n",
       "    </tr>\n",
       "    <tr>\n",
       "      <th>1397</th>\n",
       "      <td>Toyota Innova Crysta 2.4 G MT 8 STR</td>\n",
       "      <td>2020</td>\n",
       "      <td>1560000</td>\n",
       "      <td>20102</td>\n",
       "      <td>Dealer</td>\n",
       "      <td>Diesel</td>\n",
       "      <td>Manual</td>\n",
       "      <td>First Owner</td>\n",
       "    </tr>\n",
       "    <tr>\n",
       "      <th>1461</th>\n",
       "      <td>Mahindra XUV500 W7</td>\n",
       "      <td>2020</td>\n",
       "      <td>830000</td>\n",
       "      <td>120000</td>\n",
       "      <td>Individual</td>\n",
       "      <td>Diesel</td>\n",
       "      <td>Manual</td>\n",
       "      <td>First Owner</td>\n",
       "    </tr>\n",
       "    <tr>\n",
       "      <th>1978</th>\n",
       "      <td>Honda Civic ZX Diesel BSIV</td>\n",
       "      <td>2020</td>\n",
       "      <td>2125000</td>\n",
       "      <td>5500</td>\n",
       "      <td>Dealer</td>\n",
       "      <td>Diesel</td>\n",
       "      <td>Manual</td>\n",
       "      <td>First Owner</td>\n",
       "    </tr>\n",
       "    <tr>\n",
       "      <th>1984</th>\n",
       "      <td>Hyundai Creta 1.6 CRDi AT SX Plus</td>\n",
       "      <td>2020</td>\n",
       "      <td>1950000</td>\n",
       "      <td>2700</td>\n",
       "      <td>Dealer</td>\n",
       "      <td>Diesel</td>\n",
       "      <td>Automatic</td>\n",
       "      <td>First Owner</td>\n",
       "    </tr>\n",
       "    <tr>\n",
       "      <th>2938</th>\n",
       "      <td>BMW X7 xDrive 30d DPE</td>\n",
       "      <td>2020</td>\n",
       "      <td>7200000</td>\n",
       "      <td>5000</td>\n",
       "      <td>Individual</td>\n",
       "      <td>Diesel</td>\n",
       "      <td>Automatic</td>\n",
       "      <td>First Owner</td>\n",
       "    </tr>\n",
       "    <tr>\n",
       "      <th>3725</th>\n",
       "      <td>Mahindra Scorpio S11 4WD BSIV</td>\n",
       "      <td>2020</td>\n",
       "      <td>1500000</td>\n",
       "      <td>50000</td>\n",
       "      <td>Individual</td>\n",
       "      <td>Diesel</td>\n",
       "      <td>Manual</td>\n",
       "      <td>First Owner</td>\n",
       "    </tr>\n",
       "    <tr>\n",
       "      <th>4097</th>\n",
       "      <td>Kia Seltos HTX Plus AT D</td>\n",
       "      <td>2020</td>\n",
       "      <td>1900000</td>\n",
       "      <td>5000</td>\n",
       "      <td>Dealer</td>\n",
       "      <td>Diesel</td>\n",
       "      <td>Automatic</td>\n",
       "      <td>First Owner</td>\n",
       "    </tr>\n",
       "    <tr>\n",
       "      <th>4675</th>\n",
       "      <td>Tata Harrier XZ Plus</td>\n",
       "      <td>2020</td>\n",
       "      <td>1650000</td>\n",
       "      <td>16000</td>\n",
       "      <td>Dealer</td>\n",
       "      <td>Diesel</td>\n",
       "      <td>Manual</td>\n",
       "      <td>First Owner</td>\n",
       "    </tr>\n",
       "    <tr>\n",
       "      <th>5004</th>\n",
       "      <td>Maruti Vitara Brezza VDi</td>\n",
       "      <td>2020</td>\n",
       "      <td>810000</td>\n",
       "      <td>15000</td>\n",
       "      <td>Individual</td>\n",
       "      <td>Diesel</td>\n",
       "      <td>Manual</td>\n",
       "      <td>First Owner</td>\n",
       "    </tr>\n",
       "    <tr>\n",
       "      <th>5044</th>\n",
       "      <td>Hyundai Creta 1.4 EX Diesel</td>\n",
       "      <td>2020</td>\n",
       "      <td>1050000</td>\n",
       "      <td>20000</td>\n",
       "      <td>Individual</td>\n",
       "      <td>Diesel</td>\n",
       "      <td>Manual</td>\n",
       "      <td>First Owner</td>\n",
       "    </tr>\n",
       "    <tr>\n",
       "      <th>5864</th>\n",
       "      <td>Maruti Vitara Brezza ZDi AMT</td>\n",
       "      <td>2020</td>\n",
       "      <td>925000</td>\n",
       "      <td>7400</td>\n",
       "      <td>Individual</td>\n",
       "      <td>Diesel</td>\n",
       "      <td>Automatic</td>\n",
       "      <td>First Owner</td>\n",
       "    </tr>\n",
       "    <tr>\n",
       "      <th>5900</th>\n",
       "      <td>Mahindra Bolero Pik-Up FB 1.7T</td>\n",
       "      <td>2020</td>\n",
       "      <td>679000</td>\n",
       "      <td>5000</td>\n",
       "      <td>Individual</td>\n",
       "      <td>Diesel</td>\n",
       "      <td>Manual</td>\n",
       "      <td>First Owner</td>\n",
       "    </tr>\n",
       "    <tr>\n",
       "      <th>6513</th>\n",
       "      <td>Mahindra KUV 100 D75 K8</td>\n",
       "      <td>2020</td>\n",
       "      <td>550000</td>\n",
       "      <td>60000</td>\n",
       "      <td>Individual</td>\n",
       "      <td>Diesel</td>\n",
       "      <td>Manual</td>\n",
       "      <td>First Owner</td>\n",
       "    </tr>\n",
       "    <tr>\n",
       "      <th>6638</th>\n",
       "      <td>Toyota Innova Crysta 2.4 ZX AT</td>\n",
       "      <td>2020</td>\n",
       "      <td>2300000</td>\n",
       "      <td>1000</td>\n",
       "      <td>Individual</td>\n",
       "      <td>Diesel</td>\n",
       "      <td>Automatic</td>\n",
       "      <td>First Owner</td>\n",
       "    </tr>\n",
       "    <tr>\n",
       "      <th>6676</th>\n",
       "      <td>Volkswagen Polo 1.5 TDI Comfortline</td>\n",
       "      <td>2020</td>\n",
       "      <td>260000</td>\n",
       "      <td>50000</td>\n",
       "      <td>Individual</td>\n",
       "      <td>Diesel</td>\n",
       "      <td>Manual</td>\n",
       "      <td>First Owner</td>\n",
       "    </tr>\n",
       "    <tr>\n",
       "      <th>7325</th>\n",
       "      <td>Honda Civic ZX Diesel BSIV</td>\n",
       "      <td>2020</td>\n",
       "      <td>2125000</td>\n",
       "      <td>5500</td>\n",
       "      <td>Dealer</td>\n",
       "      <td>Diesel</td>\n",
       "      <td>Manual</td>\n",
       "      <td>First Owner</td>\n",
       "    </tr>\n",
       "    <tr>\n",
       "      <th>7507</th>\n",
       "      <td>Volkswagen Ameo 1.5 TDI Comfortline</td>\n",
       "      <td>2020</td>\n",
       "      <td>800000</td>\n",
       "      <td>25000</td>\n",
       "      <td>Individual</td>\n",
       "      <td>Diesel</td>\n",
       "      <td>Manual</td>\n",
       "      <td>First Owner</td>\n",
       "    </tr>\n",
       "    <tr>\n",
       "      <th>7661</th>\n",
       "      <td>Toyota Fortuner 2.8 4WD AT BSIV</td>\n",
       "      <td>2020</td>\n",
       "      <td>3200000</td>\n",
       "      <td>3000</td>\n",
       "      <td>Individual</td>\n",
       "      <td>Diesel</td>\n",
       "      <td>Automatic</td>\n",
       "      <td>First Owner</td>\n",
       "    </tr>\n",
       "  </tbody>\n",
       "</table>\n",
       "</div>"
      ],
      "text/plain": [
       "                                           name  year  selling_price  \\\n",
       "289              Mahindra XUV500 W11 Option AWD  2020        1400000   \n",
       "694           Hyundai Grand i10 Nios Magna CRDi  2020         700000   \n",
       "963                           Audi A5 Sportback  2020        4700000   \n",
       "1002                Hyundai Creta 1.4 EX Diesel  2020        1050000   \n",
       "1516             Mahindra XUV500 W11 Option AWD  2020        1400000   \n",
       "1714             Ford Freestyle Titanium Diesel  2020         784000   \n",
       "1716          Ford Ecosport 1.5 Diesel Titanium  2020        1000000   \n",
       "1778  Ford EcoSport 1.5 TDCi Titanium Plus BSIV  2020        1334000   \n",
       "1780       Ford Ecosport Thunder Edition Diesel  2020        1331000   \n",
       "1963                Hyundai Venue SX Opt Diesel  2020        1000000   \n",
       "2137                      Maruti Ertiga 1.5 VDI  2020         550000   \n",
       "2211                Hyundai Creta 1.4 EX Diesel  2020        1050000   \n",
       "2699                   Mahindra Scorpio S5 BSIV  2020        1200000   \n",
       "3933         Ford Figo Aspire 1.5 TDCi Titanium  2020         530000   \n",
       "4105                            Tata Harrier XE  2020         426000   \n",
       "487                Mahindra KUV 100 D75 K6 Plus  2020         480000   \n",
       "1067                   Kia Seltos HTX Plus AT D  2020        1900000   \n",
       "1397        Toyota Innova Crysta 2.4 G MT 8 STR  2020        1560000   \n",
       "1461                         Mahindra XUV500 W7  2020         830000   \n",
       "1978                 Honda Civic ZX Diesel BSIV  2020        2125000   \n",
       "1984          Hyundai Creta 1.6 CRDi AT SX Plus  2020        1950000   \n",
       "2938                      BMW X7 xDrive 30d DPE  2020        7200000   \n",
       "3725              Mahindra Scorpio S11 4WD BSIV  2020        1500000   \n",
       "4097                   Kia Seltos HTX Plus AT D  2020        1900000   \n",
       "4675                       Tata Harrier XZ Plus  2020        1650000   \n",
       "5004                   Maruti Vitara Brezza VDi  2020         810000   \n",
       "5044                Hyundai Creta 1.4 EX Diesel  2020        1050000   \n",
       "5864               Maruti Vitara Brezza ZDi AMT  2020         925000   \n",
       "5900             Mahindra Bolero Pik-Up FB 1.7T  2020         679000   \n",
       "6513                    Mahindra KUV 100 D75 K8  2020         550000   \n",
       "6638             Toyota Innova Crysta 2.4 ZX AT  2020        2300000   \n",
       "6676        Volkswagen Polo 1.5 TDI Comfortline  2020         260000   \n",
       "7325                 Honda Civic ZX Diesel BSIV  2020        2125000   \n",
       "7507        Volkswagen Ameo 1.5 TDI Comfortline  2020         800000   \n",
       "7661            Toyota Fortuner 2.8 4WD AT BSIV  2020        3200000   \n",
       "\n",
       "      km_driven seller_type    fuel transmission           owner  \n",
       "289       25000      Dealer  Diesel       Manual     First Owner  \n",
       "694        1400  Individual  Diesel       Manual     First Owner  \n",
       "963        1500  Individual  Diesel    Automatic     First Owner  \n",
       "1002      10000  Individual  Diesel       Manual     First Owner  \n",
       "1516      25000      Dealer  Diesel       Manual     First Owner  \n",
       "1714        101      Dealer  Diesel       Manual  Test Drive Car  \n",
       "1716        101      Dealer  Diesel       Manual  Test Drive Car  \n",
       "1778       1010      Dealer  Diesel       Manual  Test Drive Car  \n",
       "1780       1010      Dealer  Diesel       Manual  Test Drive Car  \n",
       "1963       5000  Individual  Diesel       Manual     First Owner  \n",
       "2137      90000  Individual  Diesel       Manual     First Owner  \n",
       "2211      10000  Individual  Diesel       Manual     First Owner  \n",
       "2699      11000  Individual  Diesel       Manual     First Owner  \n",
       "3933      45000      Dealer  Diesel       Manual     First Owner  \n",
       "4105       1000  Individual  Diesel       Manual     First Owner  \n",
       "487       44665  Individual  Diesel       Manual     First Owner  \n",
       "1067       5000      Dealer  Diesel    Automatic     First Owner  \n",
       "1397      20102      Dealer  Diesel       Manual     First Owner  \n",
       "1461     120000  Individual  Diesel       Manual     First Owner  \n",
       "1978       5500      Dealer  Diesel       Manual     First Owner  \n",
       "1984       2700      Dealer  Diesel    Automatic     First Owner  \n",
       "2938       5000  Individual  Diesel    Automatic     First Owner  \n",
       "3725      50000  Individual  Diesel       Manual     First Owner  \n",
       "4097       5000      Dealer  Diesel    Automatic     First Owner  \n",
       "4675      16000      Dealer  Diesel       Manual     First Owner  \n",
       "5004      15000  Individual  Diesel       Manual     First Owner  \n",
       "5044      20000  Individual  Diesel       Manual     First Owner  \n",
       "5864       7400  Individual  Diesel    Automatic     First Owner  \n",
       "5900       5000  Individual  Diesel       Manual     First Owner  \n",
       "6513      60000  Individual  Diesel       Manual     First Owner  \n",
       "6638       1000  Individual  Diesel    Automatic     First Owner  \n",
       "6676      50000  Individual  Diesel       Manual     First Owner  \n",
       "7325       5500      Dealer  Diesel       Manual     First Owner  \n",
       "7507      25000  Individual  Diesel       Manual     First Owner  \n",
       "7661       3000  Individual  Diesel    Automatic     First Owner  "
      ]
     },
     "execution_count": 140,
     "metadata": {},
     "output_type": "execute_result"
    }
   ],
   "source": [
    "diesel2020=df[(df['year']==2020)&(df['fuel']=='Diesel')]\n",
    "diesel2020"
   ]
  },
  {
   "cell_type": "markdown",
   "metadata": {},
   "source": [
    "### ------------------------------------------------------------------------------------------------------------------------ "
   ]
  },
  {
   "cell_type": "code",
   "execution_count": 141,
   "metadata": {},
   "outputs": [
    {
     "name": "stdout",
     "output_type": "stream",
     "text": [
      "<class 'pandas.core.frame.DataFrame'>\n",
      "Int64Index: 12468 entries, 0 to 8127\n",
      "Data columns (total 8 columns):\n",
      " #   Column         Non-Null Count  Dtype \n",
      "---  ------         --------------  ----- \n",
      " 0   name           12468 non-null  object\n",
      " 1   year           12468 non-null  int64 \n",
      " 2   selling_price  12468 non-null  int64 \n",
      " 3   km_driven      12468 non-null  int64 \n",
      " 4   seller_type    12468 non-null  object\n",
      " 5   fuel           12468 non-null  object\n",
      " 6   transmission   12468 non-null  object\n",
      " 7   owner          12468 non-null  object\n",
      "dtypes: int64(3), object(5)\n",
      "memory usage: 876.7+ KB\n"
     ]
    }
   ],
   "source": [
    "df.info()"
   ]
  },
  {
   "cell_type": "code",
   "execution_count": 142,
   "metadata": {},
   "outputs": [
    {
     "data": {
      "text/html": [
       "<div>\n",
       "<style scoped>\n",
       "    .dataframe tbody tr th:only-of-type {\n",
       "        vertical-align: middle;\n",
       "    }\n",
       "\n",
       "    .dataframe tbody tr th {\n",
       "        vertical-align: top;\n",
       "    }\n",
       "\n",
       "    .dataframe thead th {\n",
       "        text-align: right;\n",
       "    }\n",
       "</style>\n",
       "<table border=\"1\" class=\"dataframe\">\n",
       "  <thead>\n",
       "    <tr style=\"text-align: right;\">\n",
       "      <th></th>\n",
       "      <th>name</th>\n",
       "      <th>year</th>\n",
       "      <th>selling_price</th>\n",
       "      <th>km_driven</th>\n",
       "      <th>seller_type</th>\n",
       "      <th>fuel</th>\n",
       "      <th>transmission</th>\n",
       "      <th>owner</th>\n",
       "    </tr>\n",
       "  </thead>\n",
       "  <tbody>\n",
       "    <tr>\n",
       "      <th>0</th>\n",
       "      <td>Maruti 800 AC</td>\n",
       "      <td>2007</td>\n",
       "      <td>60000</td>\n",
       "      <td>70000</td>\n",
       "      <td>Individual</td>\n",
       "      <td>Petrol</td>\n",
       "      <td>Manual</td>\n",
       "      <td>First Owner</td>\n",
       "    </tr>\n",
       "    <tr>\n",
       "      <th>1</th>\n",
       "      <td>Maruti Wagon R LXI Minor</td>\n",
       "      <td>2007</td>\n",
       "      <td>135000</td>\n",
       "      <td>50000</td>\n",
       "      <td>Individual</td>\n",
       "      <td>Petrol</td>\n",
       "      <td>Manual</td>\n",
       "      <td>First Owner</td>\n",
       "    </tr>\n",
       "    <tr>\n",
       "      <th>2</th>\n",
       "      <td>Hyundai Verna 1.6 SX</td>\n",
       "      <td>2012</td>\n",
       "      <td>600000</td>\n",
       "      <td>100000</td>\n",
       "      <td>Individual</td>\n",
       "      <td>Diesel</td>\n",
       "      <td>Manual</td>\n",
       "      <td>First Owner</td>\n",
       "    </tr>\n",
       "    <tr>\n",
       "      <th>3</th>\n",
       "      <td>Datsun RediGO T Option</td>\n",
       "      <td>2017</td>\n",
       "      <td>250000</td>\n",
       "      <td>46000</td>\n",
       "      <td>Individual</td>\n",
       "      <td>Petrol</td>\n",
       "      <td>Manual</td>\n",
       "      <td>First Owner</td>\n",
       "    </tr>\n",
       "    <tr>\n",
       "      <th>4</th>\n",
       "      <td>Honda Amaze VX i-DTEC</td>\n",
       "      <td>2014</td>\n",
       "      <td>450000</td>\n",
       "      <td>141000</td>\n",
       "      <td>Individual</td>\n",
       "      <td>Diesel</td>\n",
       "      <td>Manual</td>\n",
       "      <td>Second Owner</td>\n",
       "    </tr>\n",
       "  </tbody>\n",
       "</table>\n",
       "</div>"
      ],
      "text/plain": [
       "                       name  year  selling_price  km_driven seller_type  \\\n",
       "0             Maruti 800 AC  2007          60000      70000  Individual   \n",
       "1  Maruti Wagon R LXI Minor  2007         135000      50000  Individual   \n",
       "2      Hyundai Verna 1.6 SX  2012         600000     100000  Individual   \n",
       "3    Datsun RediGO T Option  2017         250000      46000  Individual   \n",
       "4     Honda Amaze VX i-DTEC  2014         450000     141000  Individual   \n",
       "\n",
       "     fuel transmission         owner  \n",
       "0  Petrol       Manual   First Owner  \n",
       "1  Petrol       Manual   First Owner  \n",
       "2  Diesel       Manual   First Owner  \n",
       "3  Petrol       Manual   First Owner  \n",
       "4  Diesel       Manual  Second Owner  "
      ]
     },
     "execution_count": 142,
     "metadata": {},
     "output_type": "execute_result"
    }
   ],
   "source": [
    "df.head()"
   ]
  },
  {
   "cell_type": "markdown",
   "metadata": {},
   "source": [
    "## Identifying Features and Label"
   ]
  },
  {
   "cell_type": "code",
   "execution_count": 143,
   "metadata": {},
   "outputs": [
    {
     "data": {
      "text/plain": [
       "array([[2007, 70000, 'Individual', 'Petrol', 'Manual', 'First Owner'],\n",
       "       [2007, 50000, 'Individual', 'Petrol', 'Manual', 'First Owner'],\n",
       "       [2012, 100000, 'Individual', 'Diesel', 'Manual', 'First Owner'],\n",
       "       ...,\n",
       "       [2009, 120000, 'Individual', 'Diesel', 'Manual', 'First Owner'],\n",
       "       [2013, 25000, 'Individual', 'Diesel', 'Manual', 'First Owner'],\n",
       "       [2013, 25000, 'Individual', 'Diesel', 'Manual', 'First Owner']],\n",
       "      dtype=object)"
      ]
     },
     "execution_count": 143,
     "metadata": {},
     "output_type": "execute_result"
    }
   ],
   "source": [
    "#features\n",
    "X=df.loc[:,['year','km_driven','seller_type','fuel','transmission','owner']].values\n",
    "X"
   ]
  },
  {
   "cell_type": "code",
   "execution_count": 144,
   "metadata": {},
   "outputs": [
    {
     "data": {
      "text/plain": [
       "array([ 60000, 135000, 600000, ..., 382000, 290000, 290000], dtype=int64)"
      ]
     },
     "execution_count": 144,
     "metadata": {},
     "output_type": "execute_result"
    }
   ],
   "source": [
    "#label\n",
    "Y=df.iloc[:,2].values\n",
    "Y"
   ]
  },
  {
   "cell_type": "markdown",
   "metadata": {},
   "source": [
    "### Data Preprocessing"
   ]
  },
  {
   "cell_type": "code",
   "execution_count": 145,
   "metadata": {},
   "outputs": [
    {
     "data": {
      "text/plain": [
       "array([[2007, 70000, 'Individual', 'Petrol', 'Manual', 'First Owner'],\n",
       "       [2007, 50000, 'Individual', 'Petrol', 'Manual', 'First Owner'],\n",
       "       [2012, 100000, 'Individual', 'Diesel', 'Manual', 'First Owner'],\n",
       "       ...,\n",
       "       [2009, 120000, 'Individual', 'Diesel', 'Manual', 'First Owner'],\n",
       "       [2013, 25000, 'Individual', 'Diesel', 'Manual', 'First Owner'],\n",
       "       [2013, 25000, 'Individual', 'Diesel', 'Manual', 'First Owner']],\n",
       "      dtype=object)"
      ]
     },
     "execution_count": 145,
     "metadata": {},
     "output_type": "execute_result"
    }
   ],
   "source": [
    "X"
   ]
  },
  {
   "cell_type": "code",
   "execution_count": 146,
   "metadata": {},
   "outputs": [],
   "source": [
    "from sklearn.preprocessing import LabelEncoder,OneHotEncoder\n",
    "seller_type_encoder=LabelEncoder()\n",
    "X[:,2]=seller_type_encoder.fit_transform(X[:,2])\n"
   ]
  },
  {
   "cell_type": "code",
   "execution_count": 238,
   "metadata": {},
   "outputs": [
    {
     "data": {
      "text/plain": [
       "array(['Dealer', 'Individual', 'Trustmark Dealer'], dtype=object)"
      ]
     },
     "execution_count": 238,
     "metadata": {},
     "output_type": "execute_result"
    }
   ],
   "source": [
    "seller_type_encoder.classes_"
   ]
  },
  {
   "cell_type": "code",
   "execution_count": 245,
   "metadata": {},
   "outputs": [
    {
     "data": {
      "text/plain": [
       "array(['Dealer', 'Individual', 'Trustmark Dealer'], dtype=object)"
      ]
     },
     "execution_count": 245,
     "metadata": {},
     "output_type": "execute_result"
    }
   ],
   "source": [
    "seller_type_encoder.inverse_transform([0,1,2])"
   ]
  },
  {
   "cell_type": "code",
   "execution_count": 147,
   "metadata": {},
   "outputs": [],
   "source": [
    "fuel_encoder=LabelEncoder()\n",
    "X[:,3]=fuel_encoder.fit_transform(X[:,3])"
   ]
  },
  {
   "cell_type": "code",
   "execution_count": 148,
   "metadata": {},
   "outputs": [
    {
     "data": {
      "text/plain": [
       "array([1, 1, 1, ..., 1, 1, 1], dtype=object)"
      ]
     },
     "execution_count": 148,
     "metadata": {},
     "output_type": "execute_result"
    }
   ],
   "source": [
    "LE_transmission=LabelEncoder()\n",
    "X[:,4]=LE_transmission.fit_transform(X[:,4])\n",
    "X[:,4]"
   ]
  },
  {
   "cell_type": "code",
   "execution_count": 149,
   "metadata": {},
   "outputs": [],
   "source": [
    "LE_owner=LabelEncoder()\n",
    "X[:,-1]=LE_owner.fit_transform(X[:,-1])"
   ]
  },
  {
   "cell_type": "code",
   "execution_count": 150,
   "metadata": {},
   "outputs": [
    {
     "data": {
      "text/plain": [
       "array([[2007, 70000, 1, 4, 1, 0],\n",
       "       [2007, 50000, 1, 4, 1, 0],\n",
       "       [2012, 100000, 1, 1, 1, 0],\n",
       "       ...,\n",
       "       [2009, 120000, 1, 1, 1, 0],\n",
       "       [2013, 25000, 1, 1, 1, 0],\n",
       "       [2013, 25000, 1, 1, 1, 0]], dtype=object)"
      ]
     },
     "execution_count": 150,
     "metadata": {},
     "output_type": "execute_result"
    }
   ],
   "source": [
    "X"
   ]
  },
  {
   "cell_type": "markdown",
   "metadata": {},
   "source": [
    "### Train Test Split"
   ]
  },
  {
   "cell_type": "code",
   "execution_count": 151,
   "metadata": {},
   "outputs": [],
   "source": [
    "from sklearn.model_selection import train_test_split\n",
    "X_train,X_test,Y_train,Y_test=train_test_split(X,Y,test_size=0.25,random_state=0)"
   ]
  },
  {
   "cell_type": "markdown",
   "metadata": {},
   "source": [
    "## Applying Machine Learning algorithm"
   ]
  },
  {
   "cell_type": "markdown",
   "metadata": {},
   "source": [
    "### 1.Linear Regression"
   ]
  },
  {
   "cell_type": "code",
   "execution_count": 152,
   "metadata": {},
   "outputs": [
    {
     "data": {
      "text/plain": [
       "LinearRegression()"
      ]
     },
     "execution_count": 152,
     "metadata": {},
     "output_type": "execute_result"
    }
   ],
   "source": [
    "from sklearn.linear_model import LinearRegression\n",
    "Lr=LinearRegression()\n",
    "Lr.fit(X_train,Y_train)"
   ]
  },
  {
   "cell_type": "code",
   "execution_count": 153,
   "metadata": {},
   "outputs": [],
   "source": [
    "score=[]"
   ]
  },
  {
   "cell_type": "code",
   "execution_count": 154,
   "metadata": {},
   "outputs": [
    {
     "data": {
      "text/plain": [
       "47.72616779041914"
      ]
     },
     "execution_count": 154,
     "metadata": {},
     "output_type": "execute_result"
    }
   ],
   "source": [
    "Lr_accuracy=Lr.score(X_test,Y_test)*100\n",
    "score.append(Lr_accuracy)\n",
    "Lr_accuracy"
   ]
  },
  {
   "cell_type": "code",
   "execution_count": 155,
   "metadata": {},
   "outputs": [
    {
     "data": {
      "text/plain": [
       "array([250000, 700000, 515000, ..., 395000, 395000, 670000], dtype=int64)"
      ]
     },
     "execution_count": 155,
     "metadata": {},
     "output_type": "execute_result"
    }
   ],
   "source": [
    "Y_test"
   ]
  },
  {
   "cell_type": "code",
   "execution_count": 156,
   "metadata": {},
   "outputs": [
    {
     "data": {
      "text/plain": [
       "array([459236.31150749, 720423.16879913, 833981.48531246, ...,\n",
       "       140821.39144556, 231418.82769254, 655139.61727586])"
      ]
     },
     "execution_count": 156,
     "metadata": {},
     "output_type": "execute_result"
    }
   ],
   "source": [
    "Yp=Lr.predict(X_test)\n",
    "Yp"
   ]
  },
  {
   "cell_type": "code",
   "execution_count": 157,
   "metadata": {},
   "outputs": [
    {
     "data": {
      "text/plain": [
       "<matplotlib.axes._subplots.AxesSubplot at 0x2a461148dc0>"
      ]
     },
     "execution_count": 157,
     "metadata": {},
     "output_type": "execute_result"
    },
    {
     "data": {
      "image/png": "[encoded data removed]",
      "text/plain": [
       "<Figure size 432x288 with 1 Axes>"
      ]
     },
     "metadata": {
      "needs_background": "light"
     },
     "output_type": "display_data"
    }
   ],
   "source": [
    "import seaborn as sns\n",
    "sns.distplot(Y_test-Yp,color='r',bins=78)"
   ]
  },
  {
   "cell_type": "markdown",
   "metadata": {},
   "source": [
    "### 2.Polynomial Regression"
   ]
  },
  {
   "cell_type": "code",
   "execution_count": 158,
   "metadata": {},
   "outputs": [],
   "source": [
    "from sklearn.preprocessing import PolynomialFeatures\n",
    "PF=PolynomialFeatures(degree=2)\n",
    "X_poly_train=PF.fit_transform(X_train)\n",
    "X_poly_test=PF.transform(X_test)"
   ]
  },
  {
   "cell_type": "code",
   "execution_count": 159,
   "metadata": {},
   "outputs": [
    {
     "data": {
      "text/plain": [
       "LinearRegression()"
      ]
     },
     "execution_count": 159,
     "metadata": {},
     "output_type": "execute_result"
    }
   ],
   "source": [
    "from sklearn.linear_model import LinearRegression\n",
    "Plr=LinearRegression()\n",
    "Plr.fit(X_poly_train,Y_train)"
   ]
  },
  {
   "cell_type": "code",
   "execution_count": 160,
   "metadata": {},
   "outputs": [
    {
     "data": {
      "text/plain": [
       "array([436934.53149223, 674575.74943161, 863747.43185425, ...,\n",
       "       163726.52577209, 280244.30774117, 590336.47727776])"
      ]
     },
     "execution_count": 160,
     "metadata": {},
     "output_type": "execute_result"
    }
   ],
   "source": [
    "Yp=Plr.predict(X_poly_test)\n",
    "Yp"
   ]
  },
  {
   "cell_type": "code",
   "execution_count": 161,
   "metadata": {},
   "outputs": [
    {
     "data": {
      "text/plain": [
       "62.67715763025931"
      ]
     },
     "execution_count": 161,
     "metadata": {},
     "output_type": "execute_result"
    }
   ],
   "source": [
    "plr_accuracy=Plr.score(X_poly_test,Y_test)*100\n",
    "score.append(plr_accuracy)\n",
    "plr_accuracy\n"
   ]
  },
  {
   "cell_type": "markdown",
   "metadata": {},
   "source": [
    "### 3. Support Vector Regression"
   ]
  },
  {
   "cell_type": "code",
   "execution_count": 162,
   "metadata": {},
   "outputs": [
    {
     "data": {
      "text/plain": [
       "array([ 60000, 135000, 600000, ..., 382000, 290000, 290000], dtype=int64)"
      ]
     },
     "execution_count": 162,
     "metadata": {},
     "output_type": "execute_result"
    }
   ],
   "source": [
    "Y"
   ]
  },
  {
   "cell_type": "code",
   "execution_count": 163,
   "metadata": {},
   "outputs": [
    {
     "data": {
      "text/plain": [
       "array([[2007, 70000, 1, 4, 1, 0],\n",
       "       [2007, 50000, 1, 4, 1, 0],\n",
       "       [2012, 100000, 1, 1, 1, 0],\n",
       "       ...,\n",
       "       [2009, 120000, 1, 1, 1, 0],\n",
       "       [2013, 25000, 1, 1, 1, 0],\n",
       "       [2013, 25000, 1, 1, 1, 0]], dtype=object)"
      ]
     },
     "execution_count": 163,
     "metadata": {},
     "output_type": "execute_result"
    }
   ],
   "source": [
    "X"
   ]
  },
  {
   "cell_type": "code",
   "execution_count": 164,
   "metadata": {},
   "outputs": [],
   "source": [
    "from sklearn.preprocessing import StandardScaler\n",
    "Sc_X=StandardScaler()\n",
    "Sc_Y=StandardScaler()\n",
    "standard_X_train=Sc_X.fit_transform(X_train)\n",
    "standard_X_test=Sc_X.transform(X_test)\n",
    "standard_Y_train=Sc_Y.fit_transform(Y_train.reshape(-1,1))\n",
    "standard_Y_test=Sc_Y.transform(Y_test.reshape(-1,1))"
   ]
  },
  {
   "cell_type": "code",
   "execution_count": 165,
   "metadata": {},
   "outputs": [
    {
     "data": {
      "text/plain": [
       "array([[ 0.84047738, -0.51562636, -2.04551561, -0.92454842, -2.68511325,\n",
       "        -0.67083596],\n",
       "       [-0.12780475,  0.5691812 ,  0.3311763 , -0.92454842,  0.37242377,\n",
       "         2.57437204],\n",
       "       [ 0.11426578, -0.33990051,  0.3311763 , -0.92454842,  0.37242377,\n",
       "        -0.67083596],\n",
       "       ...,\n",
       "       [-0.12780475,  0.15057243, -2.04551561, -0.92454842,  0.37242377,\n",
       "        -0.67083596],\n",
       "       [ 1.08254791, -0.64532321,  0.3311763 ,  1.07086294,  0.37242377,\n",
       "        -0.67083596],\n",
       "       [-0.12780475, -0.12430801,  0.3311763 ,  1.07086294,  0.37242377,\n",
       "         0.95176804]])"
      ]
     },
     "execution_count": 165,
     "metadata": {},
     "output_type": "execute_result"
    }
   ],
   "source": [
    "standard_X_train"
   ]
  },
  {
   "cell_type": "code",
   "execution_count": 166,
   "metadata": {},
   "outputs": [
    {
     "data": {
      "text/plain": [
       "array([[ 0.84047738, -0.69922134,  0.3311763 ,  1.07086294,  0.37242377,\n",
       "        -0.67083596],\n",
       "       [ 0.59840685, -0.60939113,  0.3311763 , -0.92454842,  0.37242377,\n",
       "        -0.67083596],\n",
       "       [ 1.08254791, -1.14837238,  0.3311763 , -0.92454842,  0.37242377,\n",
       "        -0.67083596],\n",
       "       ...,\n",
       "       [-0.61194581,  0.01942032,  0.3311763 ,  1.07086294,  0.37242377,\n",
       "         0.95176804],\n",
       "       [-1.09608688,  2.35500573,  0.3311763 , -0.92454842,  0.37242377,\n",
       "         2.57437204],\n",
       "       [ 0.35633631, -0.16024009,  0.3311763 , -0.92454842,  0.37242377,\n",
       "        -0.67083596]])"
      ]
     },
     "execution_count": 166,
     "metadata": {},
     "output_type": "execute_result"
    }
   ],
   "source": [
    "standard_X_test"
   ]
  },
  {
   "cell_type": "code",
   "execution_count": 167,
   "metadata": {},
   "outputs": [
    {
     "data": {
      "text/plain": [
       "SVR()"
      ]
     },
     "execution_count": 167,
     "metadata": {},
     "output_type": "execute_result"
    }
   ],
   "source": [
    "#Actual Support Vector Regression Algo\n",
    "from sklearn.svm import SVR\n",
    "reg=SVR(kernel='rbf')\n",
    "reg.fit(standard_X_train,standard_Y_train.ravel())"
   ]
  },
  {
   "cell_type": "code",
   "execution_count": 168,
   "metadata": {},
   "outputs": [
    {
     "data": {
      "text/plain": [
       "69.77816289136818"
      ]
     },
     "execution_count": 168,
     "metadata": {},
     "output_type": "execute_result"
    }
   ],
   "source": [
    "reg.score(standard_X_test,standard_Y_test)*100"
   ]
  },
  {
   "cell_type": "code",
   "execution_count": 169,
   "metadata": {},
   "outputs": [],
   "source": [
    "score.append(reg.score(standard_X_test,standard_Y_test)*100)"
   ]
  },
  {
   "cell_type": "code",
   "execution_count": 170,
   "metadata": {},
   "outputs": [],
   "source": [
    "yp=reg.predict(standard_X_test)"
   ]
  },
  {
   "cell_type": "markdown",
   "metadata": {},
   "source": [
    "### 4.Decision Tree Regression"
   ]
  },
  {
   "cell_type": "code",
   "execution_count": 171,
   "metadata": {},
   "outputs": [
    {
     "data": {
      "text/plain": [
       "DecisionTreeRegressor(random_state=0)"
      ]
     },
     "execution_count": 171,
     "metadata": {},
     "output_type": "execute_result"
    }
   ],
   "source": [
    "from sklearn.tree import DecisionTreeRegressor\n",
    "dt=DecisionTreeRegressor(random_state=0)\n",
    "dt.fit(X_train,Y_train)"
   ]
  },
  {
   "cell_type": "code",
   "execution_count": 172,
   "metadata": {},
   "outputs": [
    {
     "data": {
      "text/plain": [
       "61.80141049271558"
      ]
     },
     "execution_count": 172,
     "metadata": {},
     "output_type": "execute_result"
    }
   ],
   "source": [
    "dt_accuracy=dt.score(X_test,Y_test)*100\n",
    "score.append(dt_accuracy)\n",
    "dt_accuracy"
   ]
  },
  {
   "cell_type": "code",
   "execution_count": 173,
   "metadata": {},
   "outputs": [
    {
     "data": {
      "text/plain": [
       "array([ 438347.7826087 ,  688461.53846154, 1100000.        , ...,\n",
       "        178333.22222222,  630000.        ,  603586.17241379])"
      ]
     },
     "execution_count": 173,
     "metadata": {},
     "output_type": "execute_result"
    }
   ],
   "source": [
    "Yp=dt.predict(X_test)\n",
    "Yp"
   ]
  },
  {
   "cell_type": "markdown",
   "metadata": {},
   "source": [
    "### 5.Random Forest Regression"
   ]
  },
  {
   "cell_type": "code",
   "execution_count": 174,
   "metadata": {},
   "outputs": [
    {
     "data": {
      "text/plain": [
       "RandomForestRegressor(n_estimators=300, random_state=0)"
      ]
     },
     "execution_count": 174,
     "metadata": {},
     "output_type": "execute_result"
    }
   ],
   "source": [
    "from sklearn.ensemble import RandomForestRegressor\n",
    "rf=RandomForestRegressor(n_estimators=300,random_state=0)\n",
    "rf.fit(X_train,Y_train)"
   ]
  },
  {
   "cell_type": "code",
   "execution_count": 175,
   "metadata": {},
   "outputs": [
    {
     "data": {
      "text/plain": [
       "array([ 437884.61174311,  679455.22151739, 1071368.16137566, ...,\n",
       "        178358.18711957,  408339.80166667,  604543.64035021])"
      ]
     },
     "execution_count": 175,
     "metadata": {},
     "output_type": "execute_result"
    }
   ],
   "source": [
    "Yp=rf.predict(X_test)\n",
    "Yp"
   ]
  },
  {
   "cell_type": "code",
   "execution_count": 176,
   "metadata": {},
   "outputs": [
    {
     "data": {
      "text/plain": [
       "77.99172232948263"
      ]
     },
     "execution_count": 176,
     "metadata": {},
     "output_type": "execute_result"
    }
   ],
   "source": [
    "rf_accuracy=rf.score(X_test,Y_test)*100\n",
    "score.append(rf_accuracy)\n",
    "rf_accuracy"
   ]
  },
  {
   "cell_type": "code",
   "execution_count": 177,
   "metadata": {},
   "outputs": [
    {
     "data": {
      "text/plain": [
       "[<matplotlib.lines.Line2D at 0x2a4612cc910>]"
      ]
     },
     "execution_count": 177,
     "metadata": {},
     "output_type": "execute_result"
    },
    {
     "data": {
      "image/png": "[encoded data removed]",
      "text/plain": [
       "<Figure size 432x288 with 1 Axes>"
      ]
     },
     "metadata": {
      "needs_background": "light"
     },
     "output_type": "display_data"
    }
   ],
   "source": [
    "plt.plot(Y_test)\n",
    "plt.plot(Yp)"
   ]
  },
  {
   "cell_type": "code",
   "execution_count": 178,
   "metadata": {},
   "outputs": [
    {
     "data": {
      "text/plain": [
       "[47.72616779041914,\n",
       " 62.67715763025931,\n",
       " 69.77816289136818,\n",
       " 61.80141049271558,\n",
       " 77.99172232948263]"
      ]
     },
     "execution_count": 178,
     "metadata": {},
     "output_type": "execute_result"
    }
   ],
   "source": [
    "score"
   ]
  },
  {
   "cell_type": "code",
   "execution_count": 179,
   "metadata": {},
   "outputs": [
    {
     "data": {
      "image/png": "[encoded data removed]",
      "text/plain": [
       "<Figure size 432x288 with 1 Axes>"
      ]
     },
     "metadata": {
      "needs_background": "light"
     },
     "output_type": "display_data"
    }
   ],
   "source": [
    "algo=['Linear','Poly','SVR','DT','RFR']\n",
    "plt.ylim(0,100)\n",
    "color_list=['red','blue','green','yellow','cyan']\n",
    "plt.title('Regression Algorithm Score')\n",
    "plt.xlabel('Algorithm')\n",
    "plt.ylabel('Score')\n",
    "val=plt.bar(algo,score,color=color_list)\n",
    "for value in val:\n",
    "    height=round(value.get_height(),2)\n",
    "    plt.text(value.get_x(),1.02*height,height)\n",
    "plt.show()"
   ]
  },
  {
   "cell_type": "markdown",
   "metadata": {},
   "source": [
    "##### we saw that the best accuracy is given by the Random Forest Regression. Thats why we will use Random Forest Regression"
   ]
  },
  {
   "cell_type": "markdown",
   "metadata": {},
   "source": [
    "###### We will also try to find if there is any chance to increase the accuracy"
   ]
  },
  {
   "cell_type": "code",
   "execution_count": 180,
   "metadata": {},
   "outputs": [
    {
     "name": "stdout",
     "output_type": "stream",
     "text": [
      "0 77.99172232948263\n",
      "1 71.62450732294788\n",
      "2 74.37452936641075\n",
      "3 78.65013034252668\n",
      "4 83.8359902118602\n",
      "5 78.78848185908856\n",
      "6 78.73813022734154\n",
      "7 76.678036313401\n",
      "8 76.41538519629233\n",
      "9 77.37412581340575\n",
      "10 72.28171843484074\n",
      "11 78.4974234349401\n",
      "12 80.33328558645523\n",
      "13 77.40813324427805\n",
      "14 79.89631717916627\n",
      "15 76.28560286414945\n",
      "16 75.63827962247515\n",
      "17 71.29435303883514\n",
      "18 74.47419486787503\n",
      "19 77.71943904721238\n",
      "20 81.05848482351263\n",
      "21 75.1062169216699\n",
      "22 76.16461574871582\n",
      "23 78.2938829461701\n",
      "24 71.5248845739907\n",
      "25 74.95955364965536\n",
      "26 75.8822137844761\n",
      "27 75.29259082221157\n",
      "28 79.09326540392038\n",
      "29 75.49399834994007\n",
      "30 73.36065532805571\n",
      "31 78.13771808694922\n",
      "32 80.55281641270815\n",
      "33 83.88207411626422\n",
      "34 77.97996656851362\n",
      "35 82.52151771455777\n",
      "36 76.24235435133482\n",
      "37 77.80930456883235\n",
      "38 72.96064880728608\n",
      "39 79.45992076729273\n",
      "40 72.15878720357472\n",
      "41 80.0142419722902\n",
      "42 76.65691627569085\n"
     ]
    }
   ],
   "source": [
    "for i in range(43):\n",
    "    from sklearn.model_selection import train_test_split\n",
    "    X_train, X_test, Y_train, Y_test = train_test_split(X,Y,test_size=0.25,random_state=i)\n",
    "\n",
    "    from sklearn.ensemble import RandomForestRegressor\n",
    "    reg5 = RandomForestRegressor(n_estimators=300,random_state=0)\n",
    "\n",
    "    reg5.fit(X_train,Y_train)\n",
    "\n",
    "\n",
    "    print(i,reg5.score(X_test,Y_test) * 100)"
   ]
  },
  {
   "cell_type": "code",
   "execution_count": null,
   "metadata": {},
   "outputs": [],
   "source": []
  },
  {
   "cell_type": "code",
   "execution_count": null,
   "metadata": {},
   "outputs": [],
   "source": []
  },
  {
   "cell_type": "code",
   "execution_count": 181,
   "metadata": {},
   "outputs": [
    {
     "data": {
      "text/plain": [
       "RandomForestRegressor(n_estimators=300, random_state=0)"
      ]
     },
     "execution_count": 181,
     "metadata": {},
     "output_type": "execute_result"
    }
   ],
   "source": [
    "from sklearn.model_selection import train_test_split\n",
    "X_train, X_test, Y_train, Y_test = train_test_split(X,Y,test_size=0.25,random_state=4)\n",
    "\n",
    "from sklearn.ensemble import RandomForestRegressor\n",
    "rfr = RandomForestRegressor(n_estimators=300,random_state=0)\n",
    "rfr.fit(X_train,Y_train)"
   ]
  },
  {
   "cell_type": "code",
   "execution_count": 182,
   "metadata": {},
   "outputs": [
    {
     "data": {
      "text/plain": [
       "83.8359902118602"
      ]
     },
     "execution_count": 182,
     "metadata": {},
     "output_type": "execute_result"
    }
   ],
   "source": [
    "rfr.score(X_test,Y_test)*100"
   ]
  },
  {
   "cell_type": "markdown",
   "metadata": {},
   "source": [
    "### GUI Prediction"
   ]
  },
  {
   "cell_type": "code",
   "execution_count": 183,
   "metadata": {},
   "outputs": [
    {
     "data": {
      "text/plain": [
       "array([[2007, 70000, 1, 4, 1, 0],\n",
       "       [2007, 50000, 1, 4, 1, 0],\n",
       "       [2012, 100000, 1, 1, 1, 0],\n",
       "       ...,\n",
       "       [2009, 120000, 1, 1, 1, 0],\n",
       "       [2013, 25000, 1, 1, 1, 0],\n",
       "       [2013, 25000, 1, 1, 1, 0]], dtype=object)"
      ]
     },
     "execution_count": 183,
     "metadata": {},
     "output_type": "execute_result"
    }
   ],
   "source": [
    "X"
   ]
  },
  {
   "cell_type": "code",
   "execution_count": 271,
   "metadata": {},
   "outputs": [
    {
     "name": "stdout",
     "output_type": "stream",
     "text": [
      "2009 56000 Individual Petrol Manual First Owner\n",
      "2009 56000 [1] [4] [1] [0]\n"
     ]
    }
   ],
   "source": [
    "from tkinter import *\n",
    "from tkinter import ttk\n",
    "def home():\n",
    "    def submitfunc():\n",
    "        year=yearE.get()\n",
    "        km=kmE.get()\n",
    "        seller=sellerE.get()\n",
    "        fuel=f.get()\n",
    "        transmission=t.get()\n",
    "        owner=o.get()\n",
    "        print(year,km,seller,fuel,transmission,owner)\n",
    "        t_seller=seller_type_encoder.transform([seller])\n",
    "        t_fuel=fuel_encoder.transform([fuel])\n",
    "        t_trans=LE_transmission.transform([transmission])\n",
    "        t_owner=LE_owner.transform([owner])\n",
    "        print(year,km,t_seller,t_fuel,t_trans,t_owner)\n",
    "        price_predict=rfr.predict([[year,km,t_seller,t_fuel,t_trans,t_owner]])\n",
    "        priceL=Label(win,text=round(price_predict[0],2),fg='red')\n",
    "        priceL.config(font=('Times New Roman',17))\n",
    "        priceL.place(x=255,y=400)\n",
    "        pL=Label(win,text='Expected Selling Price:',fg='blue')\n",
    "        pL.config(font=('Times New Roman',17))\n",
    "        pL.place(x=10,y=400)\n",
    "        button2=Button(win,text='Try Other Car',command=home,bg='blue',fg='yellow')\n",
    "        button2.place(x=400,y=478)\n",
    "    win=Tk()\n",
    "    win.title('Second Hand Car Price Prediction')\n",
    "    win.geometry('500x700+450+50')\n",
    "    yearL=Label(win,text='Year')\n",
    "    yearL.place(x=10,y=50)\n",
    "    yearE=Entry(win,width=22)\n",
    "    yearE.place(x=200,y=50)\n",
    "    kmL=Label(win,text='Km Driven')\n",
    "    kmL.place(x=10,y=100)\n",
    "    kmE=Entry(win,width=22)\n",
    "    kmE.place(x=200,y=100)\n",
    "    sellerL=Label(win,text='Seller type')\n",
    "    sellerL.place(x=10,y=150)\n",
    "    n=StringVar()\n",
    "    sellerE=ttk.Combobox(win,textvariable=n,state='readonly')\n",
    "    sellerE['values']=('Individual','Dealer','Trustmark Dealer')\n",
    "    sellerE.place(x=200,y=150)\n",
    "    fuelL=Label(win,text='Fuel Type')\n",
    "    fuelL.place(x=10,y=200)\n",
    "    f=StringVar()\n",
    "    fuelE=ttk.Combobox(win,textvariable=f,state='readonly')\n",
    "    fuelE['values']=('Petrol','Diesel','CNG','LPG','Electric')\n",
    "    fuelE.place(x=200,y=200)\n",
    "    transL=Label(win,text='Transmission Type')\n",
    "    transL.place(x=10,y=250)\n",
    "    t=StringVar()\n",
    "    transE=ttk.Combobox(win,textvariable=t,state='readonly')\n",
    "    transE['values']=('Manual','Automatic')\n",
    "    transE.place(x=200,y=250)\n",
    "    ownerL=Label(win,text='Owner type')\n",
    "    ownerL.place(x=10,y=300)\n",
    "    o=StringVar()\n",
    "    ownerE=ttk.Combobox(win,textvariable=o,state='readonly')\n",
    "    ownerE['values']=('First Owner','Second Owner','Fourth & Above Owner','Third Owner','Test Drive Car')\n",
    "    ownerE.place(x=200,y=300)\n",
    "    submit=Button(win,text='Submit',font='bold',fg='red',bg='pink',border=2,width=7,command=submitfunc)\n",
    "    submit.place(x=200,y=350)\n",
    "    win.mainloop()\n",
    "    \n",
    "home()\n"
   ]
  },
  {
   "cell_type": "code",
   "execution_count": 250,
   "metadata": {},
   "outputs": [
    {
     "data": {
      "text/plain": [
       "array(['Dealer'], dtype=object)"
      ]
     },
     "execution_count": 250,
     "metadata": {},
     "output_type": "execute_result"
    }
   ],
   "source": [
    "seller_type_encoder.inverse_transform([0])"
   ]
  },
  {
   "cell_type": "code",
   "execution_count": 252,
   "metadata": {},
   "outputs": [
    {
     "data": {
      "text/plain": [
       "array(['Petrol'], dtype=object)"
      ]
     },
     "execution_count": 252,
     "metadata": {},
     "output_type": "execute_result"
    }
   ],
   "source": [
    "fuel_encoder.inverse_transform([4])"
   ]
  },
  {
   "cell_type": "code",
   "execution_count": 253,
   "metadata": {},
   "outputs": [
    {
     "data": {
      "text/plain": [
       "array(['Manual'], dtype=object)"
      ]
     },
     "execution_count": 253,
     "metadata": {},
     "output_type": "execute_result"
    }
   ],
   "source": [
    "LE_transmission.inverse_transform([1])"
   ]
  },
  {
   "cell_type": "code",
   "execution_count": 254,
   "metadata": {},
   "outputs": [
    {
     "data": {
      "text/plain": [
       "array(['Second Owner'], dtype=object)"
      ]
     },
     "execution_count": 254,
     "metadata": {},
     "output_type": "execute_result"
    }
   ],
   "source": [
    "LE_owner.inverse_transform([2])\n"
   ]
  },
  {
   "cell_type": "code",
   "execution_count": null,
   "metadata": {},
   "outputs": [],
   "source": []
  }
 ],
 "metadata": {
  "kernelspec": {
   "display_name": "Python 3",
   "language": "python",
   "name": "python3"
  },
  "language_info": {
   "codemirror_mode": {
    "name": "ipython",
    "version": 3
   },
   "file_extension": ".py",
   "mimetype": "text/x-python",
   "name": "python",
   "nbconvert_exporter": "python",
   "pygments_lexer": "ipython3",
   "version": "3.8.3"
  }
 },
 "nbformat": 4,
 "nbformat_minor": 4
}
